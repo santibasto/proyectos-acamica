{
 "cells": [
  {
   "cell_type": "code",
   "execution_count": 1,
   "metadata": {},
   "outputs": [],
   "source": [
    "# DS_Proyecto_02\n",
    "import pandas as pd\n",
    "import numpy as np\n",
    "import matplotlib.pyplot as plt\n",
    "import seaborn as sns"
   ]
  },
  {
   "cell_type": "code",
   "execution_count": 2,
   "metadata": {},
   "outputs": [],
   "source": [
    "# Se carga el dataset usando libreria pandas\n",
    "data_properati = pd.read_csv (\"DS_Proyecto_01_Datos_Properati.csv\")"
   ]
  },
  {
   "cell_type": "code",
   "execution_count": 3,
   "metadata": {},
   "outputs": [
    {
     "data": {
      "text/plain": [
       "(91485, 19)"
      ]
     },
     "execution_count": 3,
     "metadata": {},
     "output_type": "execute_result"
    }
   ],
   "source": [
    "# Filtro para region con más publicaciones, Capital Federal \n",
    "data_properati_1 = data_properati[(data_properati.l2 == \"Capital Federal\")]\n",
    "\n",
    "# Filtro para propiedades con más publicaciones, Casa, Departamento, PH (propiedad horizontal)\n",
    "data_properati_2 = data_properati_1[(data_properati_1.property_type == \"Casa\")\n",
    "                                    | (data_properati_1.property_type == \"Departamento\")\n",
    "                                    | (data_properati_1.property_type == \"PH\")]\n",
    "data_properati_2.shape"
   ]
  },
  {
   "cell_type": "code",
   "execution_count": 4,
   "metadata": {},
   "outputs": [
    {
     "data": {
      "text/plain": [
       "(81019, 7)"
      ]
     },
     "execution_count": 4,
     "metadata": {},
     "output_type": "execute_result"
    }
   ],
   "source": [
    "# Partimos desde el filtro definido en DS_Proyecto_01\n",
    "data_properati = pd.read_csv (\"DS_Proyecto_01_Datos_Properati.csv\")\n",
    "\n",
    "data_properati_1 = data_properati[(data_properati.l2 == \"Capital Federal\")]\n",
    "data_properati_2 = data_properati_1[(data_properati_1.property_type == \"Departamento\") \n",
    "                                    | (data_properati_1.property_type == \"PH\") \n",
    "                                    | (data_properati_1.property_type == \"Casa\")]\n",
    "data_properati_3 = data_properati_2[(data_properati_2.surface_total <= 1000) \n",
    "                                    & (15 <= data_properati_2.surface_total)]\n",
    "data_properati_4 = data_properati_3[(data_properati_3.price <= 4000000)]\n",
    "data_properati_5 = data_properati_4[[\"rooms\", \"bedrooms\", \"bathrooms\", \"surface_total\",\n",
    "                                     \"surface_covered\", \"price\", \"property_type\"]]\n",
    "data_properati_final = data_properati_5.dropna()\n",
    "\n",
    "data_properati_final.shape"
   ]
  },
  {
   "cell_type": "code",
   "execution_count": 5,
   "metadata": {},
   "outputs": [
    {
     "data": {
      "text/html": [
       "<div>\n",
       "<style scoped>\n",
       "    .dataframe tbody tr th:only-of-type {\n",
       "        vertical-align: middle;\n",
       "    }\n",
       "\n",
       "    .dataframe tbody tr th {\n",
       "        vertical-align: top;\n",
       "    }\n",
       "\n",
       "    .dataframe thead th {\n",
       "        text-align: right;\n",
       "    }\n",
       "</style>\n",
       "<table border=\"1\" class=\"dataframe\">\n",
       "  <thead>\n",
       "    <tr style=\"text-align: right;\">\n",
       "      <th></th>\n",
       "      <th>rooms</th>\n",
       "      <th>bedrooms</th>\n",
       "      <th>bathrooms</th>\n",
       "      <th>surface_total</th>\n",
       "      <th>surface_covered</th>\n",
       "      <th>price</th>\n",
       "    </tr>\n",
       "  </thead>\n",
       "  <tbody>\n",
       "    <tr>\n",
       "      <th>count</th>\n",
       "      <td>81019.000000</td>\n",
       "      <td>81019.000000</td>\n",
       "      <td>81019.000000</td>\n",
       "      <td>81019.000000</td>\n",
       "      <td>81019.000000</td>\n",
       "      <td>8.101900e+04</td>\n",
       "    </tr>\n",
       "    <tr>\n",
       "      <th>mean</th>\n",
       "      <td>3.009652</td>\n",
       "      <td>2.002037</td>\n",
       "      <td>1.553821</td>\n",
       "      <td>95.361779</td>\n",
       "      <td>84.928535</td>\n",
       "      <td>2.637725e+05</td>\n",
       "    </tr>\n",
       "    <tr>\n",
       "      <th>std</th>\n",
       "      <td>1.308602</td>\n",
       "      <td>1.049673</td>\n",
       "      <td>0.852672</td>\n",
       "      <td>77.253578</td>\n",
       "      <td>156.133119</td>\n",
       "      <td>2.989499e+05</td>\n",
       "    </tr>\n",
       "    <tr>\n",
       "      <th>min</th>\n",
       "      <td>1.000000</td>\n",
       "      <td>0.000000</td>\n",
       "      <td>1.000000</td>\n",
       "      <td>15.000000</td>\n",
       "      <td>1.000000</td>\n",
       "      <td>6.000000e+03</td>\n",
       "    </tr>\n",
       "    <tr>\n",
       "      <th>25%</th>\n",
       "      <td>2.000000</td>\n",
       "      <td>1.000000</td>\n",
       "      <td>1.000000</td>\n",
       "      <td>49.000000</td>\n",
       "      <td>44.000000</td>\n",
       "      <td>1.250000e+05</td>\n",
       "    </tr>\n",
       "    <tr>\n",
       "      <th>50%</th>\n",
       "      <td>3.000000</td>\n",
       "      <td>2.000000</td>\n",
       "      <td>1.000000</td>\n",
       "      <td>71.000000</td>\n",
       "      <td>63.000000</td>\n",
       "      <td>1.800000e+05</td>\n",
       "    </tr>\n",
       "    <tr>\n",
       "      <th>75%</th>\n",
       "      <td>4.000000</td>\n",
       "      <td>3.000000</td>\n",
       "      <td>2.000000</td>\n",
       "      <td>111.000000</td>\n",
       "      <td>96.000000</td>\n",
       "      <td>2.800000e+05</td>\n",
       "    </tr>\n",
       "    <tr>\n",
       "      <th>max</th>\n",
       "      <td>26.000000</td>\n",
       "      <td>15.000000</td>\n",
       "      <td>14.000000</td>\n",
       "      <td>1000.000000</td>\n",
       "      <td>17220.000000</td>\n",
       "      <td>4.000000e+06</td>\n",
       "    </tr>\n",
       "  </tbody>\n",
       "</table>\n",
       "</div>"
      ],
      "text/plain": [
       "              rooms      bedrooms     bathrooms  surface_total  \\\n",
       "count  81019.000000  81019.000000  81019.000000   81019.000000   \n",
       "mean       3.009652      2.002037      1.553821      95.361779   \n",
       "std        1.308602      1.049673      0.852672      77.253578   \n",
       "min        1.000000      0.000000      1.000000      15.000000   \n",
       "25%        2.000000      1.000000      1.000000      49.000000   \n",
       "50%        3.000000      2.000000      1.000000      71.000000   \n",
       "75%        4.000000      3.000000      2.000000     111.000000   \n",
       "max       26.000000     15.000000     14.000000    1000.000000   \n",
       "\n",
       "       surface_covered         price  \n",
       "count     81019.000000  8.101900e+04  \n",
       "mean         84.928535  2.637725e+05  \n",
       "std         156.133119  2.989499e+05  \n",
       "min           1.000000  6.000000e+03  \n",
       "25%          44.000000  1.250000e+05  \n",
       "50%          63.000000  1.800000e+05  \n",
       "75%          96.000000  2.800000e+05  \n",
       "max       17220.000000  4.000000e+06  "
      ]
     },
     "execution_count": 5,
     "metadata": {},
     "output_type": "execute_result"
    }
   ],
   "source": [
    "# Empezamos buscandos los valores atípicos, outliers\n",
    "data_properati_final.describe()\n",
    "# Probablemente hay datos atípicos en surface_total y price"
   ]
  },
  {
   "cell_type": "code",
   "execution_count": 6,
   "metadata": {},
   "outputs": [
    {
     "data": {
      "image/png": "[encoded data removed]",
      "text/plain": [
       "<Figure size 1584x576 with 1 Axes>"
      ]
     },
     "metadata": {
      "needs_background": "light"
     },
     "output_type": "display_data"
    },
    {
     "data": {
      "image/png": "[encoded data removed]",
      "text/plain": [
       "<Figure size 360x864 with 1 Axes>"
      ]
     },
     "metadata": {
      "needs_background": "light"
     },
     "output_type": "display_data"
    }
   ],
   "source": [
    "# Gráfico histograma con variable surface_total\n",
    "fig, ax = plt.subplots(figsize = (22, 8))\n",
    "plt.subplot(221)\n",
    "sns.distplot(data_properati_final['surface_total'], bins = 50)\n",
    "plt.title(\"Distribución surface_total\")\n",
    "plt.xlabel(\"surface_total\")\n",
    "\n",
    "# Es mucho más probable encontrar una propiedad con tamaño cerca de 100 m2, que encontrar una con más de 1000 m2\n",
    "\n",
    "fig, ax = plt.subplots(figsize = (5, 12))\n",
    "plt.subplot(212)\n",
    "sns.boxplot(data = data_properati_final, y = \"surface_total\")\n",
    "plt.title(\"Boxplot identificación outliers\")\n",
    "plt.ylabel(\"surface_total\")\n",
    "plt.show()\n",
    "\n",
    "# Valores outliers se encuentran desde 200 m2 en adelante\n",
    "# Puede que estos outliers sean errores al introducir los datos en el dataset"
   ]
  },
  {
   "cell_type": "code",
   "execution_count": 7,
   "metadata": {},
   "outputs": [
    {
     "name": "stdout",
     "output_type": "stream",
     "text": [
      "49.0 111.0 62.0 -75.0 235.0\n"
     ]
    }
   ],
   "source": [
    "# Rango intercuartilico\n",
    "\n",
    "q25, q75 = np.percentile(data_properati_final.surface_total.values, [25, 75])\n",
    "iqr = q75 - q25\n",
    "minimo = q25 - 2*iqr\n",
    "maximo = q75 + 2*iqr\n",
    "print(q25,q75,iqr, minimo, maximo)\n",
    "\n",
    "# Valores fuera del rango [-75.0, 235.0] serán considerados atípicos"
   ]
  },
  {
   "cell_type": "code",
   "execution_count": 8,
   "metadata": {},
   "outputs": [
    {
     "data": {
      "text/plain": [
       "4399"
      ]
     },
     "execution_count": 8,
     "metadata": {},
     "output_type": "execute_result"
    }
   ],
   "source": [
    "mascara_outliers_surface_total = (data_properati_final.surface_total < minimo) | (data_properati_final.surface_total > maximo)\n",
    "mascara_outliers_surface_total.sum()\n",
    "\n",
    "# Se eliminaran 4399 datos atípicos para la variable surface_total"
   ]
  },
  {
   "cell_type": "code",
   "execution_count": 9,
   "metadata": {},
   "outputs": [
    {
     "data": {
      "image/png": "[encoded data removed]",
      "text/plain": [
       "<Figure size 1584x576 with 1 Axes>"
      ]
     },
     "metadata": {
      "needs_background": "light"
     },
     "output_type": "display_data"
    },
    {
     "data": {
      "image/png": "[encoded data removed]",
      "text/plain": [
       "<Figure size 360x864 with 1 Axes>"
      ]
     },
     "metadata": {
      "needs_background": "light"
     },
     "output_type": "display_data"
    }
   ],
   "source": [
    "# Se repite el proceso para detectar outliers de la variable price\n",
    "# Gráfico histograma con variable price\n",
    "fig, ax = plt.subplots(figsize = (22, 8))\n",
    "plt.subplot(221)\n",
    "sns.distplot(data_properati_final['price'], bins = 50)\n",
    "plt.title(\"Distribución price\")\n",
    "plt.xlabel('price')\n",
    "\n",
    "# Es mucho más probable encontrar una propiedad con precio cerca de 1M, que encontrar una de 4M\n",
    "\n",
    "fig, ax = plt.subplots(figsize = (5, 12))\n",
    "plt.subplot(212)\n",
    "sns.boxplot(data = data_properati_final, y = 'price')\n",
    "plt.title(\"Boxplot identificación outliers\")\n",
    "plt.ylabel('price')\n",
    "plt.show()"
   ]
  },
  {
   "cell_type": "code",
   "execution_count": 10,
   "metadata": {},
   "outputs": [
    {
     "name": "stdout",
     "output_type": "stream",
     "text": [
      "125000.0 280000.0 155000.0 -185000.0 590000.0\n"
     ]
    }
   ],
   "source": [
    "# Rango intercuartilico \n",
    "\n",
    "q25, q75 = np.percentile(data_properati_final.price.values, [25, 75])\n",
    "iqr = q75 - q25\n",
    "minimo = q25 - 2*iqr\n",
    "maximo = q75 + 2*iqr\n",
    "print(q25,q75,iqr, minimo, maximo)\n",
    "\n",
    "# Valores fuera del rango [-185000.0, 590000.0] serán considerados atípicos"
   ]
  },
  {
   "cell_type": "code",
   "execution_count": 11,
   "metadata": {},
   "outputs": [
    {
     "data": {
      "text/plain": [
       "5537"
      ]
     },
     "execution_count": 11,
     "metadata": {},
     "output_type": "execute_result"
    }
   ],
   "source": [
    "mascara_outliers_price = (data_properati_final.price < minimo) | (data_properati_final.price > maximo)\n",
    "mascara_outliers_price.sum()\n",
    "\n",
    "# Se eliminaran 5537 datos atípicos para la variable surface_total"
   ]
  },
  {
   "cell_type": "code",
   "execution_count": 12,
   "metadata": {},
   "outputs": [
    {
     "data": {
      "text/plain": [
       "(73460, 7)"
      ]
     },
     "execution_count": 12,
     "metadata": {},
     "output_type": "execute_result"
    }
   ],
   "source": [
    "# Dataset sin outliers\n",
    "# Nuevo filtro a partir de datos obtenidos por rango intercuartilico\n",
    "data_properati = pd.read_csv (\"DS_Proyecto_01_Datos_Properati.csv\")\n",
    "\n",
    "data_properati_1 = data_properati[(data_properati.l2 == \"Capital Federal\")]\n",
    "data_properati_2 = data_properati_1[(data_properati_1.property_type == \"Departamento\") \n",
    "                                    | (data_properati_1.property_type == \"PH\") \n",
    "                                    | (data_properati_1.property_type == \"Casa\")]\n",
    "data_properati_3 = data_properati_2[(data_properati_2.surface_total >= -75.0) & (data_properati_2.surface_total < 235.0)]\n",
    "data_properati_4 = data_properati_3[(data_properati_3.price >= -185000.0) & (data_properati_3.price < 590000.0)]\n",
    "data_properati_5 = data_properati_4[[\"rooms\", \"bedrooms\", \"bathrooms\", \"surface_total\",\n",
    "                                     \"surface_covered\", \"price\", \"property_type\"]]\n",
    "data_properati_final = data_properati_5.dropna()\n",
    "\n",
    "data_properati_final.shape"
   ]
  },
  {
   "cell_type": "code",
   "execution_count": 13,
   "metadata": {},
   "outputs": [
    {
     "data": {
      "text/plain": [
       "Text(0.5, 0, 'price')"
      ]
     },
     "execution_count": 13,
     "metadata": {},
     "output_type": "execute_result"
    },
    {
     "data": {
      "image/png": "[encoded data removed]",
      "text/plain": [
       "<Figure size 432x288 with 1 Axes>"
      ]
     },
     "metadata": {
      "needs_background": "light"
     },
     "output_type": "display_data"
    }
   ],
   "source": [
    "sns.distplot(data_properati_final['price'], bins = 50)\n",
    "plt.title(\"Nueva distribución price\")\n",
    "plt.xlabel('price')\n",
    "\n",
    "# Vemos nueva distribución de datos para variable price"
   ]
  },
  {
   "cell_type": "code",
   "execution_count": 14,
   "metadata": {},
   "outputs": [
    {
     "data": {
      "text/plain": [
       "Text(0.5, 0, 'surface_total')"
      ]
     },
     "execution_count": 14,
     "metadata": {},
     "output_type": "execute_result"
    },
    {
     "data": {
      "image/png": "[encoded data removed]",
      "text/plain": [
       "<Figure size 432x288 with 1 Axes>"
      ]
     },
     "metadata": {
      "needs_background": "light"
     },
     "output_type": "display_data"
    }
   ],
   "source": [
    "sns.distplot(data_properati_final['surface_total'], bins = 50)\n",
    "plt.title(\"Nueva distribución surface_total\")\n",
    "plt.xlabel('surface_total')\n",
    "\n",
    "# Vemos nueva distribución de datos para variable price"
   ]
  },
  {
   "cell_type": "code",
   "execution_count": 15,
   "metadata": {},
   "outputs": [
    {
     "data": {
      "text/html": [
       "<div>\n",
       "<style scoped>\n",
       "    .dataframe tbody tr th:only-of-type {\n",
       "        vertical-align: middle;\n",
       "    }\n",
       "\n",
       "    .dataframe tbody tr th {\n",
       "        vertical-align: top;\n",
       "    }\n",
       "\n",
       "    .dataframe thead th {\n",
       "        text-align: right;\n",
       "    }\n",
       "</style>\n",
       "<table border=\"1\" class=\"dataframe\">\n",
       "  <thead>\n",
       "    <tr style=\"text-align: right;\">\n",
       "      <th></th>\n",
       "      <th>rooms</th>\n",
       "      <th>bedrooms</th>\n",
       "      <th>bathrooms</th>\n",
       "      <th>surface_total</th>\n",
       "      <th>surface_covered</th>\n",
       "      <th>price</th>\n",
       "    </tr>\n",
       "  </thead>\n",
       "  <tbody>\n",
       "    <tr>\n",
       "      <th>count</th>\n",
       "      <td>73460.000000</td>\n",
       "      <td>73460.000000</td>\n",
       "      <td>73460.000000</td>\n",
       "      <td>73460.000000</td>\n",
       "      <td>73460.000000</td>\n",
       "      <td>73460.000000</td>\n",
       "    </tr>\n",
       "    <tr>\n",
       "      <th>mean</th>\n",
       "      <td>2.815519</td>\n",
       "      <td>1.858549</td>\n",
       "      <td>1.406657</td>\n",
       "      <td>77.309243</td>\n",
       "      <td>70.231691</td>\n",
       "      <td>196484.704615</td>\n",
       "    </tr>\n",
       "    <tr>\n",
       "      <th>std</th>\n",
       "      <td>1.092964</td>\n",
       "      <td>0.918649</td>\n",
       "      <td>0.663930</td>\n",
       "      <td>40.275059</td>\n",
       "      <td>121.327731</td>\n",
       "      <td>104824.657960</td>\n",
       "    </tr>\n",
       "    <tr>\n",
       "      <th>min</th>\n",
       "      <td>1.000000</td>\n",
       "      <td>0.000000</td>\n",
       "      <td>1.000000</td>\n",
       "      <td>10.000000</td>\n",
       "      <td>1.000000</td>\n",
       "      <td>6000.000000</td>\n",
       "    </tr>\n",
       "    <tr>\n",
       "      <th>25%</th>\n",
       "      <td>2.000000</td>\n",
       "      <td>1.000000</td>\n",
       "      <td>1.000000</td>\n",
       "      <td>48.000000</td>\n",
       "      <td>43.000000</td>\n",
       "      <td>120000.000000</td>\n",
       "    </tr>\n",
       "    <tr>\n",
       "      <th>50%</th>\n",
       "      <td>3.000000</td>\n",
       "      <td>2.000000</td>\n",
       "      <td>1.000000</td>\n",
       "      <td>66.000000</td>\n",
       "      <td>59.000000</td>\n",
       "      <td>168000.000000</td>\n",
       "    </tr>\n",
       "    <tr>\n",
       "      <th>75%</th>\n",
       "      <td>3.000000</td>\n",
       "      <td>2.000000</td>\n",
       "      <td>2.000000</td>\n",
       "      <td>96.000000</td>\n",
       "      <td>83.000000</td>\n",
       "      <td>248000.000000</td>\n",
       "    </tr>\n",
       "    <tr>\n",
       "      <th>max</th>\n",
       "      <td>21.000000</td>\n",
       "      <td>15.000000</td>\n",
       "      <td>14.000000</td>\n",
       "      <td>234.000000</td>\n",
       "      <td>13402.000000</td>\n",
       "      <td>589794.000000</td>\n",
       "    </tr>\n",
       "  </tbody>\n",
       "</table>\n",
       "</div>"
      ],
      "text/plain": [
       "              rooms      bedrooms     bathrooms  surface_total  \\\n",
       "count  73460.000000  73460.000000  73460.000000   73460.000000   \n",
       "mean       2.815519      1.858549      1.406657      77.309243   \n",
       "std        1.092964      0.918649      0.663930      40.275059   \n",
       "min        1.000000      0.000000      1.000000      10.000000   \n",
       "25%        2.000000      1.000000      1.000000      48.000000   \n",
       "50%        3.000000      2.000000      1.000000      66.000000   \n",
       "75%        3.000000      2.000000      2.000000      96.000000   \n",
       "max       21.000000     15.000000     14.000000     234.000000   \n",
       "\n",
       "       surface_covered          price  \n",
       "count     73460.000000   73460.000000  \n",
       "mean         70.231691  196484.704615  \n",
       "std         121.327731  104824.657960  \n",
       "min           1.000000    6000.000000  \n",
       "25%          43.000000  120000.000000  \n",
       "50%          59.000000  168000.000000  \n",
       "75%          83.000000  248000.000000  \n",
       "max       13402.000000  589794.000000  "
      ]
     },
     "execution_count": 15,
     "metadata": {},
     "output_type": "execute_result"
    }
   ],
   "source": [
    "data_properati_final.describe()"
   ]
  },
  {
   "cell_type": "code",
   "execution_count": 16,
   "metadata": {},
   "outputs": [
    {
     "data": {
      "image/png": "[encoded data removed]",
      "text/plain": [
       "<Figure size 576x432 with 1 Axes>"
      ]
     },
     "metadata": {
      "needs_background": "light"
     },
     "output_type": "display_data"
    }
   ],
   "source": [
    "# Encoding\n",
    "# Se transforma variable property types en dummies para obtener 0 y 1 de acuerdo a cada property type\n",
    "# No tenemos en cuenta labe encoding pues al ser 3 tipos de propiedad alguna tendría mayor valor (0, 1, 2)\n",
    "# Gráfico property_type\n",
    "\n",
    "fig, ax = plt.subplots(figsize = (8, 6))\n",
    "sns.countplot(data = data_properati_final, x = \"property_type\")\n",
    "plt.xticks(rotation = 0)\n",
    "plt.title(\"cantidad por property_type en Capital Federal\")\n",
    "plt.show()\n",
    "\n",
    "# Vamos a llevar esta variable a forma númerica\n",
    "# Se tomaran las categorías más representativas: Departamento y PH"
   ]
  },
  {
   "cell_type": "code",
   "execution_count": 17,
   "metadata": {},
   "outputs": [],
   "source": [
    "# Dummies \n",
    "data_properati_final = pd.get_dummies(data_properati_final, columns=[\"property_type\"])"
   ]
  },
  {
   "cell_type": "code",
   "execution_count": 18,
   "metadata": {},
   "outputs": [
    {
     "data": {
      "text/html": [
       "<div>\n",
       "<style scoped>\n",
       "    .dataframe tbody tr th:only-of-type {\n",
       "        vertical-align: middle;\n",
       "    }\n",
       "\n",
       "    .dataframe tbody tr th {\n",
       "        vertical-align: top;\n",
       "    }\n",
       "\n",
       "    .dataframe thead th {\n",
       "        text-align: right;\n",
       "    }\n",
       "</style>\n",
       "<table border=\"1\" class=\"dataframe\">\n",
       "  <thead>\n",
       "    <tr style=\"text-align: right;\">\n",
       "      <th></th>\n",
       "      <th>rooms</th>\n",
       "      <th>bedrooms</th>\n",
       "      <th>bathrooms</th>\n",
       "      <th>surface_total</th>\n",
       "      <th>surface_covered</th>\n",
       "      <th>price</th>\n",
       "      <th>property_type_Casa</th>\n",
       "      <th>property_type_Departamento</th>\n",
       "      <th>property_type_PH</th>\n",
       "    </tr>\n",
       "  </thead>\n",
       "  <tbody>\n",
       "    <tr>\n",
       "      <th>0</th>\n",
       "      <td>7.0</td>\n",
       "      <td>7.0</td>\n",
       "      <td>2.0</td>\n",
       "      <td>140.0</td>\n",
       "      <td>140.0</td>\n",
       "      <td>153000.0</td>\n",
       "      <td>0</td>\n",
       "      <td>1</td>\n",
       "      <td>0</td>\n",
       "    </tr>\n",
       "    <tr>\n",
       "      <th>1</th>\n",
       "      <td>2.0</td>\n",
       "      <td>1.0</td>\n",
       "      <td>2.0</td>\n",
       "      <td>70.0</td>\n",
       "      <td>58.0</td>\n",
       "      <td>159000.0</td>\n",
       "      <td>0</td>\n",
       "      <td>0</td>\n",
       "      <td>1</td>\n",
       "    </tr>\n",
       "    <tr>\n",
       "      <th>2</th>\n",
       "      <td>2.0</td>\n",
       "      <td>1.0</td>\n",
       "      <td>1.0</td>\n",
       "      <td>45.0</td>\n",
       "      <td>45.0</td>\n",
       "      <td>125000.0</td>\n",
       "      <td>0</td>\n",
       "      <td>0</td>\n",
       "      <td>1</td>\n",
       "    </tr>\n",
       "    <tr>\n",
       "      <th>3</th>\n",
       "      <td>2.0</td>\n",
       "      <td>1.0</td>\n",
       "      <td>1.0</td>\n",
       "      <td>85.0</td>\n",
       "      <td>50.0</td>\n",
       "      <td>295000.0</td>\n",
       "      <td>0</td>\n",
       "      <td>0</td>\n",
       "      <td>1</td>\n",
       "    </tr>\n",
       "    <tr>\n",
       "      <th>5</th>\n",
       "      <td>2.0</td>\n",
       "      <td>1.0</td>\n",
       "      <td>1.0</td>\n",
       "      <td>56.0</td>\n",
       "      <td>56.0</td>\n",
       "      <td>150000.0</td>\n",
       "      <td>0</td>\n",
       "      <td>0</td>\n",
       "      <td>1</td>\n",
       "    </tr>\n",
       "  </tbody>\n",
       "</table>\n",
       "</div>"
      ],
      "text/plain": [
       "   rooms  bedrooms  bathrooms  surface_total  surface_covered     price  \\\n",
       "0    7.0       7.0        2.0          140.0            140.0  153000.0   \n",
       "1    2.0       1.0        2.0           70.0             58.0  159000.0   \n",
       "2    2.0       1.0        1.0           45.0             45.0  125000.0   \n",
       "3    2.0       1.0        1.0           85.0             50.0  295000.0   \n",
       "5    2.0       1.0        1.0           56.0             56.0  150000.0   \n",
       "\n",
       "   property_type_Casa  property_type_Departamento  property_type_PH  \n",
       "0                   0                           1                 0  \n",
       "1                   0                           0                 1  \n",
       "2                   0                           0                 1  \n",
       "3                   0                           0                 1  \n",
       "5                   0                           0                 1  "
      ]
     },
     "execution_count": 18,
     "metadata": {},
     "output_type": "execute_result"
    }
   ],
   "source": [
    "data_properati_final.head()\n",
    "# 3 nuevas variables property_type_Casa, property_type_Departamento y property_type_PH"
   ]
  },
  {
   "cell_type": "code",
   "execution_count": 19,
   "metadata": {},
   "outputs": [
    {
     "data": {
      "text/plain": [
       "(73460, 9)"
      ]
     },
     "execution_count": 19,
     "metadata": {},
     "output_type": "execute_result"
    }
   ],
   "source": [
    "# Nuevo dataset queda con 73460 instancias y 9 variables\n",
    "data_properati_final.shape"
   ]
  },
  {
   "cell_type": "code",
   "execution_count": 20,
   "metadata": {},
   "outputs": [
    {
     "data": {
      "image/png": "[encoded data removed]",
      "text/plain": [
       "<Figure size 864x720 with 2 Axes>"
      ]
     },
     "metadata": {
      "needs_background": "light"
     },
     "output_type": "display_data"
    }
   ],
   "source": [
    "# Vemos la correlación de nuestros datos\n",
    "# Tenemos en cuenta que tenemos variables continuas, discretas y dummies\n",
    "\n",
    "corr = data_properati_final.corr()\n",
    "plt.figure(figsize=(12,10))\n",
    "sns.heatmap(corr, annot=True)\n",
    "plt.show()"
   ]
  },
  {
   "cell_type": "code",
   "execution_count": 21,
   "metadata": {},
   "outputs": [],
   "source": [
    "# Se escalan las variables discretas para esto dividimos el dataset\n",
    "# Separamos las varibles discretas de las continuas y dummies\n",
    "from sklearn.preprocessing import StandardScaler\n",
    "scl= StandardScaler()"
   ]
  },
  {
   "cell_type": "code",
   "execution_count": 22,
   "metadata": {},
   "outputs": [
    {
     "data": {
      "text/html": [
       "<div>\n",
       "<style scoped>\n",
       "    .dataframe tbody tr th:only-of-type {\n",
       "        vertical-align: middle;\n",
       "    }\n",
       "\n",
       "    .dataframe tbody tr th {\n",
       "        vertical-align: top;\n",
       "    }\n",
       "\n",
       "    .dataframe thead th {\n",
       "        text-align: right;\n",
       "    }\n",
       "</style>\n",
       "<table border=\"1\" class=\"dataframe\">\n",
       "  <thead>\n",
       "    <tr style=\"text-align: right;\">\n",
       "      <th></th>\n",
       "      <th>price</th>\n",
       "      <th>property_type_Casa</th>\n",
       "      <th>property_type_Departamento</th>\n",
       "      <th>property_type_PH</th>\n",
       "    </tr>\n",
       "  </thead>\n",
       "  <tbody>\n",
       "    <tr>\n",
       "      <th>0</th>\n",
       "      <td>153000.0</td>\n",
       "      <td>0</td>\n",
       "      <td>1</td>\n",
       "      <td>0</td>\n",
       "    </tr>\n",
       "    <tr>\n",
       "      <th>1</th>\n",
       "      <td>159000.0</td>\n",
       "      <td>0</td>\n",
       "      <td>0</td>\n",
       "      <td>1</td>\n",
       "    </tr>\n",
       "    <tr>\n",
       "      <th>2</th>\n",
       "      <td>125000.0</td>\n",
       "      <td>0</td>\n",
       "      <td>0</td>\n",
       "      <td>1</td>\n",
       "    </tr>\n",
       "    <tr>\n",
       "      <th>3</th>\n",
       "      <td>295000.0</td>\n",
       "      <td>0</td>\n",
       "      <td>0</td>\n",
       "      <td>1</td>\n",
       "    </tr>\n",
       "    <tr>\n",
       "      <th>5</th>\n",
       "      <td>150000.0</td>\n",
       "      <td>0</td>\n",
       "      <td>0</td>\n",
       "      <td>1</td>\n",
       "    </tr>\n",
       "    <tr>\n",
       "      <th>...</th>\n",
       "      <td>...</td>\n",
       "      <td>...</td>\n",
       "      <td>...</td>\n",
       "      <td>...</td>\n",
       "    </tr>\n",
       "    <tr>\n",
       "      <th>146550</th>\n",
       "      <td>298000.0</td>\n",
       "      <td>0</td>\n",
       "      <td>0</td>\n",
       "      <td>1</td>\n",
       "    </tr>\n",
       "    <tr>\n",
       "      <th>146552</th>\n",
       "      <td>539000.0</td>\n",
       "      <td>0</td>\n",
       "      <td>1</td>\n",
       "      <td>0</td>\n",
       "    </tr>\n",
       "    <tr>\n",
       "      <th>146554</th>\n",
       "      <td>570000.0</td>\n",
       "      <td>0</td>\n",
       "      <td>0</td>\n",
       "      <td>1</td>\n",
       "    </tr>\n",
       "    <tr>\n",
       "      <th>146555</th>\n",
       "      <td>480000.0</td>\n",
       "      <td>0</td>\n",
       "      <td>0</td>\n",
       "      <td>1</td>\n",
       "    </tr>\n",
       "    <tr>\n",
       "      <th>146557</th>\n",
       "      <td>420000.0</td>\n",
       "      <td>0</td>\n",
       "      <td>1</td>\n",
       "      <td>0</td>\n",
       "    </tr>\n",
       "  </tbody>\n",
       "</table>\n",
       "<p>73460 rows × 4 columns</p>\n",
       "</div>"
      ],
      "text/plain": [
       "           price  property_type_Casa  property_type_Departamento  \\\n",
       "0       153000.0                   0                           1   \n",
       "1       159000.0                   0                           0   \n",
       "2       125000.0                   0                           0   \n",
       "3       295000.0                   0                           0   \n",
       "5       150000.0                   0                           0   \n",
       "...          ...                 ...                         ...   \n",
       "146550  298000.0                   0                           0   \n",
       "146552  539000.0                   0                           1   \n",
       "146554  570000.0                   0                           0   \n",
       "146555  480000.0                   0                           0   \n",
       "146557  420000.0                   0                           1   \n",
       "\n",
       "        property_type_PH  \n",
       "0                      0  \n",
       "1                      1  \n",
       "2                      1  \n",
       "3                      1  \n",
       "5                      1  \n",
       "...                  ...  \n",
       "146550                 1  \n",
       "146552                 0  \n",
       "146554                 1  \n",
       "146555                 1  \n",
       "146557                 0  \n",
       "\n",
       "[73460 rows x 4 columns]"
      ]
     },
     "execution_count": 22,
     "metadata": {},
     "output_type": "execute_result"
    }
   ],
   "source": [
    "data_variables_dep = data_properati_final[[\"price\",\"property_type_Casa\", \"property_type_Departamento\", \"property_type_PH\"]]\n",
    "data_variables_dep = pd.DataFrame(data_variables_dep)\n",
    "data_variables_dep"
   ]
  },
  {
   "cell_type": "code",
   "execution_count": 23,
   "metadata": {},
   "outputs": [
    {
     "data": {
      "text/html": [
       "<div>\n",
       "<style scoped>\n",
       "    .dataframe tbody tr th:only-of-type {\n",
       "        vertical-align: middle;\n",
       "    }\n",
       "\n",
       "    .dataframe tbody tr th {\n",
       "        vertical-align: top;\n",
       "    }\n",
       "\n",
       "    .dataframe thead th {\n",
       "        text-align: right;\n",
       "    }\n",
       "</style>\n",
       "<table border=\"1\" class=\"dataframe\">\n",
       "  <thead>\n",
       "    <tr style=\"text-align: right;\">\n",
       "      <th></th>\n",
       "      <th>rooms</th>\n",
       "      <th>bedrooms</th>\n",
       "      <th>bathrooms</th>\n",
       "      <th>surface_total</th>\n",
       "      <th>surface_covered</th>\n",
       "    </tr>\n",
       "  </thead>\n",
       "  <tbody>\n",
       "    <tr>\n",
       "      <th>0</th>\n",
       "      <td>7.0</td>\n",
       "      <td>7.0</td>\n",
       "      <td>2.0</td>\n",
       "      <td>140.0</td>\n",
       "      <td>140.0</td>\n",
       "    </tr>\n",
       "    <tr>\n",
       "      <th>1</th>\n",
       "      <td>2.0</td>\n",
       "      <td>1.0</td>\n",
       "      <td>2.0</td>\n",
       "      <td>70.0</td>\n",
       "      <td>58.0</td>\n",
       "    </tr>\n",
       "    <tr>\n",
       "      <th>2</th>\n",
       "      <td>2.0</td>\n",
       "      <td>1.0</td>\n",
       "      <td>1.0</td>\n",
       "      <td>45.0</td>\n",
       "      <td>45.0</td>\n",
       "    </tr>\n",
       "    <tr>\n",
       "      <th>3</th>\n",
       "      <td>2.0</td>\n",
       "      <td>1.0</td>\n",
       "      <td>1.0</td>\n",
       "      <td>85.0</td>\n",
       "      <td>50.0</td>\n",
       "    </tr>\n",
       "    <tr>\n",
       "      <th>5</th>\n",
       "      <td>2.0</td>\n",
       "      <td>1.0</td>\n",
       "      <td>1.0</td>\n",
       "      <td>56.0</td>\n",
       "      <td>56.0</td>\n",
       "    </tr>\n",
       "    <tr>\n",
       "      <th>...</th>\n",
       "      <td>...</td>\n",
       "      <td>...</td>\n",
       "      <td>...</td>\n",
       "      <td>...</td>\n",
       "      <td>...</td>\n",
       "    </tr>\n",
       "    <tr>\n",
       "      <th>146550</th>\n",
       "      <td>5.0</td>\n",
       "      <td>2.0</td>\n",
       "      <td>2.0</td>\n",
       "      <td>114.0</td>\n",
       "      <td>95.0</td>\n",
       "    </tr>\n",
       "    <tr>\n",
       "      <th>146552</th>\n",
       "      <td>4.0</td>\n",
       "      <td>2.0</td>\n",
       "      <td>3.0</td>\n",
       "      <td>159.0</td>\n",
       "      <td>98.0</td>\n",
       "    </tr>\n",
       "    <tr>\n",
       "      <th>146554</th>\n",
       "      <td>4.0</td>\n",
       "      <td>3.0</td>\n",
       "      <td>3.0</td>\n",
       "      <td>175.0</td>\n",
       "      <td>111.0</td>\n",
       "    </tr>\n",
       "    <tr>\n",
       "      <th>146555</th>\n",
       "      <td>3.0</td>\n",
       "      <td>2.0</td>\n",
       "      <td>2.0</td>\n",
       "      <td>144.0</td>\n",
       "      <td>134.0</td>\n",
       "    </tr>\n",
       "    <tr>\n",
       "      <th>146557</th>\n",
       "      <td>3.0</td>\n",
       "      <td>2.0</td>\n",
       "      <td>2.0</td>\n",
       "      <td>145.0</td>\n",
       "      <td>145.0</td>\n",
       "    </tr>\n",
       "  </tbody>\n",
       "</table>\n",
       "<p>73460 rows × 5 columns</p>\n",
       "</div>"
      ],
      "text/plain": [
       "        rooms  bedrooms  bathrooms  surface_total  surface_covered\n",
       "0         7.0       7.0        2.0          140.0            140.0\n",
       "1         2.0       1.0        2.0           70.0             58.0\n",
       "2         2.0       1.0        1.0           45.0             45.0\n",
       "3         2.0       1.0        1.0           85.0             50.0\n",
       "5         2.0       1.0        1.0           56.0             56.0\n",
       "...       ...       ...        ...            ...              ...\n",
       "146550    5.0       2.0        2.0          114.0             95.0\n",
       "146552    4.0       2.0        3.0          159.0             98.0\n",
       "146554    4.0       3.0        3.0          175.0            111.0\n",
       "146555    3.0       2.0        2.0          144.0            134.0\n",
       "146557    3.0       2.0        2.0          145.0            145.0\n",
       "\n",
       "[73460 rows x 5 columns]"
      ]
     },
     "execution_count": 23,
     "metadata": {},
     "output_type": "execute_result"
    }
   ],
   "source": [
    "data_variables_indep = data_properati_final.drop([\"price\",\"property_type_Casa\", \"property_type_Departamento\", \"property_type_PH\"], axis=1)\n",
    "data_variables_indep"
   ]
  },
  {
   "cell_type": "code",
   "execution_count": 24,
   "metadata": {},
   "outputs": [],
   "source": [
    "data_variables_indep_scl = scl.fit_transform(data_variables_indep.values)"
   ]
  },
  {
   "cell_type": "code",
   "execution_count": 25,
   "metadata": {},
   "outputs": [
    {
     "data": {
      "text/html": [
       "<div>\n",
       "<style scoped>\n",
       "    .dataframe tbody tr th:only-of-type {\n",
       "        vertical-align: middle;\n",
       "    }\n",
       "\n",
       "    .dataframe tbody tr th {\n",
       "        vertical-align: top;\n",
       "    }\n",
       "\n",
       "    .dataframe thead th {\n",
       "        text-align: right;\n",
       "    }\n",
       "</style>\n",
       "<table border=\"1\" class=\"dataframe\">\n",
       "  <thead>\n",
       "    <tr style=\"text-align: right;\">\n",
       "      <th></th>\n",
       "      <th>rooms</th>\n",
       "      <th>bedrooms</th>\n",
       "      <th>bathrooms</th>\n",
       "      <th>surface_total</th>\n",
       "      <th>surface_covered</th>\n",
       "    </tr>\n",
       "  </thead>\n",
       "  <tbody>\n",
       "    <tr>\n",
       "      <th>0</th>\n",
       "      <td>3.828590</td>\n",
       "      <td>5.596793</td>\n",
       "      <td>0.893690</td>\n",
       "      <td>1.556576</td>\n",
       "      <td>0.575044</td>\n",
       "    </tr>\n",
       "    <tr>\n",
       "      <th>1</th>\n",
       "      <td>-0.746158</td>\n",
       "      <td>-0.934584</td>\n",
       "      <td>0.893690</td>\n",
       "      <td>-0.181484</td>\n",
       "      <td>-0.100816</td>\n",
       "    </tr>\n",
       "    <tr>\n",
       "      <th>2</th>\n",
       "      <td>-0.746158</td>\n",
       "      <td>-0.934584</td>\n",
       "      <td>-0.612504</td>\n",
       "      <td>-0.802220</td>\n",
       "      <td>-0.207965</td>\n",
       "    </tr>\n",
       "    <tr>\n",
       "      <th>3</th>\n",
       "      <td>-0.746158</td>\n",
       "      <td>-0.934584</td>\n",
       "      <td>-0.612504</td>\n",
       "      <td>0.190957</td>\n",
       "      <td>-0.166754</td>\n",
       "    </tr>\n",
       "    <tr>\n",
       "      <th>5</th>\n",
       "      <td>-0.746158</td>\n",
       "      <td>-0.934584</td>\n",
       "      <td>-0.612504</td>\n",
       "      <td>-0.529096</td>\n",
       "      <td>-0.117300</td>\n",
       "    </tr>\n",
       "    <tr>\n",
       "      <th>...</th>\n",
       "      <td>...</td>\n",
       "      <td>...</td>\n",
       "      <td>...</td>\n",
       "      <td>...</td>\n",
       "      <td>...</td>\n",
       "    </tr>\n",
       "    <tr>\n",
       "      <th>146550</th>\n",
       "      <td>1.998690</td>\n",
       "      <td>0.153978</td>\n",
       "      <td>0.893690</td>\n",
       "      <td>0.911011</td>\n",
       "      <td>0.204145</td>\n",
       "    </tr>\n",
       "    <tr>\n",
       "      <th>146552</th>\n",
       "      <td>1.083741</td>\n",
       "      <td>0.153978</td>\n",
       "      <td>2.399883</td>\n",
       "      <td>2.028335</td>\n",
       "      <td>0.228872</td>\n",
       "    </tr>\n",
       "    <tr>\n",
       "      <th>146554</th>\n",
       "      <td>1.083741</td>\n",
       "      <td>1.242541</td>\n",
       "      <td>2.399883</td>\n",
       "      <td>2.425606</td>\n",
       "      <td>0.336020</td>\n",
       "    </tr>\n",
       "    <tr>\n",
       "      <th>146555</th>\n",
       "      <td>0.168791</td>\n",
       "      <td>0.153978</td>\n",
       "      <td>0.893690</td>\n",
       "      <td>1.655894</td>\n",
       "      <td>0.525591</td>\n",
       "    </tr>\n",
       "    <tr>\n",
       "      <th>146557</th>\n",
       "      <td>0.168791</td>\n",
       "      <td>0.153978</td>\n",
       "      <td>0.893690</td>\n",
       "      <td>1.680723</td>\n",
       "      <td>0.616255</td>\n",
       "    </tr>\n",
       "  </tbody>\n",
       "</table>\n",
       "<p>73460 rows × 5 columns</p>\n",
       "</div>"
      ],
      "text/plain": [
       "           rooms  bedrooms  bathrooms  surface_total  surface_covered\n",
       "0       3.828590  5.596793   0.893690       1.556576         0.575044\n",
       "1      -0.746158 -0.934584   0.893690      -0.181484        -0.100816\n",
       "2      -0.746158 -0.934584  -0.612504      -0.802220        -0.207965\n",
       "3      -0.746158 -0.934584  -0.612504       0.190957        -0.166754\n",
       "5      -0.746158 -0.934584  -0.612504      -0.529096        -0.117300\n",
       "...          ...       ...        ...            ...              ...\n",
       "146550  1.998690  0.153978   0.893690       0.911011         0.204145\n",
       "146552  1.083741  0.153978   2.399883       2.028335         0.228872\n",
       "146554  1.083741  1.242541   2.399883       2.425606         0.336020\n",
       "146555  0.168791  0.153978   0.893690       1.655894         0.525591\n",
       "146557  0.168791  0.153978   0.893690       1.680723         0.616255\n",
       "\n",
       "[73460 rows x 5 columns]"
      ]
     },
     "execution_count": 25,
     "metadata": {},
     "output_type": "execute_result"
    }
   ],
   "source": [
    "data_variables_indep_final = pd.DataFrame(data_variables_indep_scl, index = data_variables_indep.index, columns = data_variables_indep.columns)\n",
    "data_variables_indep_final"
   ]
  },
  {
   "cell_type": "code",
   "execution_count": 26,
   "metadata": {},
   "outputs": [
    {
     "data": {
      "text/html": [
       "<div>\n",
       "<style scoped>\n",
       "    .dataframe tbody tr th:only-of-type {\n",
       "        vertical-align: middle;\n",
       "    }\n",
       "\n",
       "    .dataframe tbody tr th {\n",
       "        vertical-align: top;\n",
       "    }\n",
       "\n",
       "    .dataframe thead th {\n",
       "        text-align: right;\n",
       "    }\n",
       "</style>\n",
       "<table border=\"1\" class=\"dataframe\">\n",
       "  <thead>\n",
       "    <tr style=\"text-align: right;\">\n",
       "      <th></th>\n",
       "      <th>rooms</th>\n",
       "      <th>bedrooms</th>\n",
       "      <th>bathrooms</th>\n",
       "      <th>surface_total</th>\n",
       "      <th>surface_covered</th>\n",
       "      <th>price</th>\n",
       "      <th>property_type_Casa</th>\n",
       "      <th>property_type_Departamento</th>\n",
       "      <th>property_type_PH</th>\n",
       "    </tr>\n",
       "  </thead>\n",
       "  <tbody>\n",
       "    <tr>\n",
       "      <th>0</th>\n",
       "      <td>3.828590</td>\n",
       "      <td>5.596793</td>\n",
       "      <td>0.893690</td>\n",
       "      <td>1.556576</td>\n",
       "      <td>0.575044</td>\n",
       "      <td>153000.0</td>\n",
       "      <td>0</td>\n",
       "      <td>1</td>\n",
       "      <td>0</td>\n",
       "    </tr>\n",
       "    <tr>\n",
       "      <th>1</th>\n",
       "      <td>-0.746158</td>\n",
       "      <td>-0.934584</td>\n",
       "      <td>0.893690</td>\n",
       "      <td>-0.181484</td>\n",
       "      <td>-0.100816</td>\n",
       "      <td>159000.0</td>\n",
       "      <td>0</td>\n",
       "      <td>0</td>\n",
       "      <td>1</td>\n",
       "    </tr>\n",
       "    <tr>\n",
       "      <th>2</th>\n",
       "      <td>-0.746158</td>\n",
       "      <td>-0.934584</td>\n",
       "      <td>-0.612504</td>\n",
       "      <td>-0.802220</td>\n",
       "      <td>-0.207965</td>\n",
       "      <td>125000.0</td>\n",
       "      <td>0</td>\n",
       "      <td>0</td>\n",
       "      <td>1</td>\n",
       "    </tr>\n",
       "    <tr>\n",
       "      <th>3</th>\n",
       "      <td>-0.746158</td>\n",
       "      <td>-0.934584</td>\n",
       "      <td>-0.612504</td>\n",
       "      <td>0.190957</td>\n",
       "      <td>-0.166754</td>\n",
       "      <td>295000.0</td>\n",
       "      <td>0</td>\n",
       "      <td>0</td>\n",
       "      <td>1</td>\n",
       "    </tr>\n",
       "    <tr>\n",
       "      <th>5</th>\n",
       "      <td>-0.746158</td>\n",
       "      <td>-0.934584</td>\n",
       "      <td>-0.612504</td>\n",
       "      <td>-0.529096</td>\n",
       "      <td>-0.117300</td>\n",
       "      <td>150000.0</td>\n",
       "      <td>0</td>\n",
       "      <td>0</td>\n",
       "      <td>1</td>\n",
       "    </tr>\n",
       "    <tr>\n",
       "      <th>...</th>\n",
       "      <td>...</td>\n",
       "      <td>...</td>\n",
       "      <td>...</td>\n",
       "      <td>...</td>\n",
       "      <td>...</td>\n",
       "      <td>...</td>\n",
       "      <td>...</td>\n",
       "      <td>...</td>\n",
       "      <td>...</td>\n",
       "    </tr>\n",
       "    <tr>\n",
       "      <th>146550</th>\n",
       "      <td>1.998690</td>\n",
       "      <td>0.153978</td>\n",
       "      <td>0.893690</td>\n",
       "      <td>0.911011</td>\n",
       "      <td>0.204145</td>\n",
       "      <td>298000.0</td>\n",
       "      <td>0</td>\n",
       "      <td>0</td>\n",
       "      <td>1</td>\n",
       "    </tr>\n",
       "    <tr>\n",
       "      <th>146552</th>\n",
       "      <td>1.083741</td>\n",
       "      <td>0.153978</td>\n",
       "      <td>2.399883</td>\n",
       "      <td>2.028335</td>\n",
       "      <td>0.228872</td>\n",
       "      <td>539000.0</td>\n",
       "      <td>0</td>\n",
       "      <td>1</td>\n",
       "      <td>0</td>\n",
       "    </tr>\n",
       "    <tr>\n",
       "      <th>146554</th>\n",
       "      <td>1.083741</td>\n",
       "      <td>1.242541</td>\n",
       "      <td>2.399883</td>\n",
       "      <td>2.425606</td>\n",
       "      <td>0.336020</td>\n",
       "      <td>570000.0</td>\n",
       "      <td>0</td>\n",
       "      <td>0</td>\n",
       "      <td>1</td>\n",
       "    </tr>\n",
       "    <tr>\n",
       "      <th>146555</th>\n",
       "      <td>0.168791</td>\n",
       "      <td>0.153978</td>\n",
       "      <td>0.893690</td>\n",
       "      <td>1.655894</td>\n",
       "      <td>0.525591</td>\n",
       "      <td>480000.0</td>\n",
       "      <td>0</td>\n",
       "      <td>0</td>\n",
       "      <td>1</td>\n",
       "    </tr>\n",
       "    <tr>\n",
       "      <th>146557</th>\n",
       "      <td>0.168791</td>\n",
       "      <td>0.153978</td>\n",
       "      <td>0.893690</td>\n",
       "      <td>1.680723</td>\n",
       "      <td>0.616255</td>\n",
       "      <td>420000.0</td>\n",
       "      <td>0</td>\n",
       "      <td>1</td>\n",
       "      <td>0</td>\n",
       "    </tr>\n",
       "  </tbody>\n",
       "</table>\n",
       "<p>73460 rows × 9 columns</p>\n",
       "</div>"
      ],
      "text/plain": [
       "           rooms  bedrooms  bathrooms  surface_total  surface_covered  \\\n",
       "0       3.828590  5.596793   0.893690       1.556576         0.575044   \n",
       "1      -0.746158 -0.934584   0.893690      -0.181484        -0.100816   \n",
       "2      -0.746158 -0.934584  -0.612504      -0.802220        -0.207965   \n",
       "3      -0.746158 -0.934584  -0.612504       0.190957        -0.166754   \n",
       "5      -0.746158 -0.934584  -0.612504      -0.529096        -0.117300   \n",
       "...          ...       ...        ...            ...              ...   \n",
       "146550  1.998690  0.153978   0.893690       0.911011         0.204145   \n",
       "146552  1.083741  0.153978   2.399883       2.028335         0.228872   \n",
       "146554  1.083741  1.242541   2.399883       2.425606         0.336020   \n",
       "146555  0.168791  0.153978   0.893690       1.655894         0.525591   \n",
       "146557  0.168791  0.153978   0.893690       1.680723         0.616255   \n",
       "\n",
       "           price  property_type_Casa  property_type_Departamento  \\\n",
       "0       153000.0                   0                           1   \n",
       "1       159000.0                   0                           0   \n",
       "2       125000.0                   0                           0   \n",
       "3       295000.0                   0                           0   \n",
       "5       150000.0                   0                           0   \n",
       "...          ...                 ...                         ...   \n",
       "146550  298000.0                   0                           0   \n",
       "146552  539000.0                   0                           1   \n",
       "146554  570000.0                   0                           0   \n",
       "146555  480000.0                   0                           0   \n",
       "146557  420000.0                   0                           1   \n",
       "\n",
       "        property_type_PH  \n",
       "0                      0  \n",
       "1                      1  \n",
       "2                      1  \n",
       "3                      1  \n",
       "5                      1  \n",
       "...                  ...  \n",
       "146550                 1  \n",
       "146552                 0  \n",
       "146554                 1  \n",
       "146555                 1  \n",
       "146557                 0  \n",
       "\n",
       "[73460 rows x 9 columns]"
      ]
     },
     "execution_count": 26,
     "metadata": {},
     "output_type": "execute_result"
    }
   ],
   "source": [
    "data_properati_final = pd.concat([data_variables_indep_final, data_variables_dep], axis='columns')\n",
    "data_properati_final"
   ]
  },
  {
   "cell_type": "code",
   "execution_count": 27,
   "metadata": {},
   "outputs": [],
   "source": [
    "# Obtenemos el data set final, con sus datos escalados y sin outliers para empezar los modelos"
   ]
  },
  {
   "cell_type": "code",
   "execution_count": 28,
   "metadata": {},
   "outputs": [],
   "source": [
    "# MODELO 1 Comparacion con modelo Proyecto_01\n",
    "# Entrenamos modelo de Proyecto_01 con dataset transformado\n",
    "from sklearn.linear_model import LinearRegression\n",
    "from sklearn.tree import DecisionTreeRegressor\n",
    "from sklearn.neighbors import KNeighborsRegressor"
   ]
  },
  {
   "cell_type": "code",
   "execution_count": 29,
   "metadata": {},
   "outputs": [],
   "source": [
    "# Regresión Multivariada, se incluyen todas las variables de control utilizadas en Proyecto_01 y nuevas\n",
    "linear_model = LinearRegression()\n",
    "tree_regressor = DecisionTreeRegressor(max_depth = 3, random_state=42)\n",
    "knn_regressor = KNeighborsRegressor(n_neighbors = 2)"
   ]
  },
  {
   "cell_type": "code",
   "execution_count": 30,
   "metadata": {},
   "outputs": [
    {
     "data": {
      "text/plain": [
       "Index(['surface_total', 'surface_covered', 'bathrooms', 'bedrooms', 'rooms',\n",
       "       'property_type_Departamento'],\n",
       "      dtype='object')"
      ]
     },
     "execution_count": 30,
     "metadata": {},
     "output_type": "execute_result"
    }
   ],
   "source": [
    "# Se define variable X\n",
    "X = data_properati_final[['surface_total', 'surface_covered', 'bathrooms', \n",
    "                          'bedrooms', 'rooms', 'property_type_Departamento' ]]\n",
    "X.columns"
   ]
  },
  {
   "cell_type": "code",
   "execution_count": 31,
   "metadata": {},
   "outputs": [
    {
     "data": {
      "text/plain": [
       "0         153000.0\n",
       "1         159000.0\n",
       "2         125000.0\n",
       "3         295000.0\n",
       "5         150000.0\n",
       "            ...   \n",
       "146550    298000.0\n",
       "146552    539000.0\n",
       "146554    570000.0\n",
       "146555    480000.0\n",
       "146557    420000.0\n",
       "Name: price, Length: 73460, dtype: float64"
      ]
     },
     "execution_count": 31,
     "metadata": {},
     "output_type": "execute_result"
    }
   ],
   "source": [
    "# Se define variable y\n",
    "y = data_properati_final['price']\n",
    "y"
   ]
  },
  {
   "cell_type": "code",
   "execution_count": 32,
   "metadata": {},
   "outputs": [],
   "source": [
    "from sklearn.model_selection import train_test_split\n",
    "\n",
    "X_train, X_test, y_train, y_test = train_test_split(X, y, test_size = 0.20, random_state = 42)"
   ]
  },
  {
   "cell_type": "code",
   "execution_count": 33,
   "metadata": {},
   "outputs": [
    {
     "data": {
      "text/plain": [
       "KNeighborsRegressor(n_neighbors=2)"
      ]
     },
     "execution_count": 33,
     "metadata": {},
     "output_type": "execute_result"
    }
   ],
   "source": [
    "# Se entrenan los modelos\n",
    "\n",
    "linear_model.fit(X_train, y_train)  # Betas de linear_model\n",
    "tree_regressor.fit(X_train, y_train) # Como se dividen los datos en el tree_regressor\n",
    "knn_regressor.fit(X_train, y_train) # Mapeo datos en el knn"
   ]
  },
  {
   "cell_type": "code",
   "execution_count": 34,
   "metadata": {},
   "outputs": [
    {
     "name": "stdout",
     "output_type": "stream",
     "text": [
      "Modelo: Regresión lineal\n",
      "Raíz del error cuadrático medio en Train: 65058.98606184587\n",
      "Raíz del error cuadrático medio en Test: 65822.22728780225\n"
     ]
    },
    {
     "data": {
      "image/png": "[encoded data removed]",
      "text/plain": [
       "<Figure size 720x288 with 2 Axes>"
      ]
     },
     "metadata": {
      "needs_background": "light"
     },
     "output_type": "display_data"
    },
    {
     "name": "stdout",
     "output_type": "stream",
     "text": [
      "Modelo: Árbol de Decisión\n",
      "Raíz del error cuadrático medio en Train: 65483.08535133128\n",
      "Raíz del error cuadrático medio en Test: 65817.23658119152\n"
     ]
    },
    {
     "data": {
      "image/png": "[encoded data removed]",
      "text/plain": [
       "<Figure size 720x288 with 2 Axes>"
      ]
     },
     "metadata": {
      "needs_background": "light"
     },
     "output_type": "display_data"
    },
    {
     "name": "stdout",
     "output_type": "stream",
     "text": [
      "Modelo: Vecinos más cercanos\n",
      "Raíz del error cuadrático medio en Train: 43834.406769355155\n",
      "Raíz del error cuadrático medio en Test: 55557.69073338754\n"
     ]
    },
    {
     "data": {
      "image/png": "[encoded data removed]",
      "text/plain": [
       "<Figure size 720x288 with 2 Axes>"
      ]
     },
     "metadata": {
      "needs_background": "light"
     },
     "output_type": "display_data"
    }
   ],
   "source": [
    "from sklearn.metrics import mean_squared_error\n",
    "import seaborn as sns\n",
    "modelos = ['Regresión lineal', 'Árbol de Decisión', 'Vecinos más cercanos']\n",
    "\n",
    "for i, model in enumerate([linear_model, tree_regressor, knn_regressor]):\n",
    "    y_train_pred = model.predict(X_train)\n",
    "    y_test_pred = model.predict(X_test)\n",
    "    \n",
    "    print(f'Modelo: {modelos[i]}')\n",
    "    rmse_train = np.sqrt(mean_squared_error(y_train, y_train_pred))\n",
    "    rmse_test = np.sqrt(mean_squared_error(y_test, y_test_pred))\n",
    "    print(f'Raíz del error cuadrático medio en Train: {rmse_train}')\n",
    "    print(f'Raíz del error cuadrático medio en Test: {rmse_test}')\n",
    "    \n",
    "    plt.figure(figsize = (10,4))\n",
    "\n",
    "    plt.subplot(1,2,1)\n",
    "    sns.distplot(y_train - y_train_pred, bins = 100, label = 'train')\n",
    "    sns.distplot(y_test - y_test_pred, bins = 100, label = 'test')\n",
    "    plt.xlim(-300000, 300000)\n",
    "    plt.xlabel('errores')\n",
    "    plt.legend()\n",
    "\n",
    "    ax = plt.subplot(1,2,2)\n",
    "    ax.scatter(y_test,y_test_pred, s =2)    \n",
    "    lims = [\n",
    "    np.min([ax.get_xlim(), ax.get_ylim()]),  # min of both axes\n",
    "    np.max([ax.get_xlim(), ax.get_ylim()]),  # max of both axes]\n",
    "    ]\n",
    "    \n",
    "    ax.plot(lims, lims, 'k-', alpha=0.75, zorder=0)\n",
    "    plt.xlabel('y (test)')\n",
    "    plt.ylabel('y_pred (test)')\n",
    "    \n",
    "    plt.tight_layout()\n",
    "    plt.show()"
   ]
  },
  {
   "cell_type": "code",
   "execution_count": 35,
   "metadata": {},
   "outputs": [],
   "source": [
    "# ¿Que modelo entrenado elegir?\n",
    "\n",
    "# Modelo actual tiene mejor desempeño que modelo de Proyecto_01 ya que se tienen datos más precisos\n",
    "# Escalar los datos y eliminar los outliers favorece el desempeño del modelo, para este caso\n",
    "# Modelo Árbol de Decisión al igual que en el DS_Proyecto_01, teniendo este un mejor rendimiento\n",
    "# La diferencia entre el RMSE de la muestra train y la muestra test, es la menor\n",
    "# El modelo es más preciso al hacer la regresión\n",
    "# Se podría generalizar con más facilidad, en comparación a los otros 2 modelos, para este caso (Regresión lineal y KNN)"
   ]
  },
  {
   "cell_type": "code",
   "execution_count": 36,
   "metadata": {},
   "outputs": [],
   "source": [
    "# Modelos avanzados"
   ]
  },
  {
   "cell_type": "code",
   "execution_count": 37,
   "metadata": {},
   "outputs": [
    {
     "data": {
      "text/html": [
       "<div>\n",
       "<style scoped>\n",
       "    .dataframe tbody tr th:only-of-type {\n",
       "        vertical-align: middle;\n",
       "    }\n",
       "\n",
       "    .dataframe tbody tr th {\n",
       "        vertical-align: top;\n",
       "    }\n",
       "\n",
       "    .dataframe thead th {\n",
       "        text-align: right;\n",
       "    }\n",
       "</style>\n",
       "<table border=\"1\" class=\"dataframe\">\n",
       "  <thead>\n",
       "    <tr style=\"text-align: right;\">\n",
       "      <th></th>\n",
       "      <th>rooms</th>\n",
       "      <th>bedrooms</th>\n",
       "      <th>bathrooms</th>\n",
       "      <th>surface_total</th>\n",
       "      <th>surface_covered</th>\n",
       "      <th>price</th>\n",
       "      <th>property_type_Casa</th>\n",
       "      <th>property_type_Departamento</th>\n",
       "      <th>property_type_PH</th>\n",
       "    </tr>\n",
       "  </thead>\n",
       "  <tbody>\n",
       "    <tr>\n",
       "      <th>0</th>\n",
       "      <td>3.828590</td>\n",
       "      <td>5.596793</td>\n",
       "      <td>0.893690</td>\n",
       "      <td>1.556576</td>\n",
       "      <td>0.575044</td>\n",
       "      <td>153000.0</td>\n",
       "      <td>0</td>\n",
       "      <td>1</td>\n",
       "      <td>0</td>\n",
       "    </tr>\n",
       "    <tr>\n",
       "      <th>1</th>\n",
       "      <td>-0.746158</td>\n",
       "      <td>-0.934584</td>\n",
       "      <td>0.893690</td>\n",
       "      <td>-0.181484</td>\n",
       "      <td>-0.100816</td>\n",
       "      <td>159000.0</td>\n",
       "      <td>0</td>\n",
       "      <td>0</td>\n",
       "      <td>1</td>\n",
       "    </tr>\n",
       "    <tr>\n",
       "      <th>2</th>\n",
       "      <td>-0.746158</td>\n",
       "      <td>-0.934584</td>\n",
       "      <td>-0.612504</td>\n",
       "      <td>-0.802220</td>\n",
       "      <td>-0.207965</td>\n",
       "      <td>125000.0</td>\n",
       "      <td>0</td>\n",
       "      <td>0</td>\n",
       "      <td>1</td>\n",
       "    </tr>\n",
       "    <tr>\n",
       "      <th>3</th>\n",
       "      <td>-0.746158</td>\n",
       "      <td>-0.934584</td>\n",
       "      <td>-0.612504</td>\n",
       "      <td>0.190957</td>\n",
       "      <td>-0.166754</td>\n",
       "      <td>295000.0</td>\n",
       "      <td>0</td>\n",
       "      <td>0</td>\n",
       "      <td>1</td>\n",
       "    </tr>\n",
       "    <tr>\n",
       "      <th>5</th>\n",
       "      <td>-0.746158</td>\n",
       "      <td>-0.934584</td>\n",
       "      <td>-0.612504</td>\n",
       "      <td>-0.529096</td>\n",
       "      <td>-0.117300</td>\n",
       "      <td>150000.0</td>\n",
       "      <td>0</td>\n",
       "      <td>0</td>\n",
       "      <td>1</td>\n",
       "    </tr>\n",
       "  </tbody>\n",
       "</table>\n",
       "</div>"
      ],
      "text/plain": [
       "      rooms  bedrooms  bathrooms  surface_total  surface_covered     price  \\\n",
       "0  3.828590  5.596793   0.893690       1.556576         0.575044  153000.0   \n",
       "1 -0.746158 -0.934584   0.893690      -0.181484        -0.100816  159000.0   \n",
       "2 -0.746158 -0.934584  -0.612504      -0.802220        -0.207965  125000.0   \n",
       "3 -0.746158 -0.934584  -0.612504       0.190957        -0.166754  295000.0   \n",
       "5 -0.746158 -0.934584  -0.612504      -0.529096        -0.117300  150000.0   \n",
       "\n",
       "   property_type_Casa  property_type_Departamento  property_type_PH  \n",
       "0                   0                           1                 0  \n",
       "1                   0                           0                 1  \n",
       "2                   0                           0                 1  \n",
       "3                   0                           0                 1  \n",
       "5                   0                           0                 1  "
      ]
     },
     "execution_count": 37,
     "metadata": {},
     "output_type": "execute_result"
    }
   ],
   "source": [
    "data_properati_final.head()"
   ]
  },
  {
   "cell_type": "code",
   "execution_count": 38,
   "metadata": {},
   "outputs": [
    {
     "data": {
      "image/png": "[encoded data removed]",
      "text/plain": [
       "<Figure size 720x576 with 2 Axes>"
      ]
     },
     "metadata": {
      "needs_background": "light"
     },
     "output_type": "display_data"
    }
   ],
   "source": [
    "corr = data_properati_final.corr()\n",
    "plt.figure(figsize=(10,8))\n",
    "sns.heatmap(corr, annot=True)\n",
    "plt.show()"
   ]
  },
  {
   "cell_type": "code",
   "execution_count": 39,
   "metadata": {},
   "outputs": [
    {
     "name": "stdout",
     "output_type": "stream",
     "text": [
      "Index(['surface_covered', 'bedrooms', 'bathrooms',\n",
      "       'property_type_Departamento'],\n",
      "      dtype='object')\n",
      "0         153000.0\n",
      "1         159000.0\n",
      "2         125000.0\n",
      "3         295000.0\n",
      "5         150000.0\n",
      "            ...   \n",
      "146550    298000.0\n",
      "146552    539000.0\n",
      "146554    570000.0\n",
      "146555    480000.0\n",
      "146557    420000.0\n",
      "Name: price, Length: 73460, dtype: float64\n"
     ]
    }
   ],
   "source": [
    "# MODELO 2 (Parte B)\n",
    "# Regresión Lineal (Benchmark)\n",
    "X = data_properati_final[['surface_covered', 'bedrooms', 'bathrooms', 'property_type_Departamento']]\n",
    "print(X.columns)\n",
    "\n",
    "y = data_properati_final['price']\n",
    "print(y)"
   ]
  },
  {
   "cell_type": "code",
   "execution_count": 40,
   "metadata": {},
   "outputs": [],
   "source": [
    "from sklearn.decomposition import PCA\n",
    "pca = PCA()\n",
    "\n",
    "X = pca.fit_transform(X)"
   ]
  },
  {
   "cell_type": "code",
   "execution_count": 41,
   "metadata": {},
   "outputs": [],
   "source": [
    "# Se realiza tran test split\n",
    "X_train, X_test, y_train, y_test= train_test_split(X, y, test_size= 0.3, random_state= 42)"
   ]
  },
  {
   "cell_type": "code",
   "execution_count": 42,
   "metadata": {},
   "outputs": [],
   "source": [
    "# Se define el modelo\n",
    "from sklearn.linear_model import LinearRegression\n",
    "reg_2 = LinearRegression()"
   ]
  },
  {
   "cell_type": "code",
   "execution_count": 43,
   "metadata": {},
   "outputs": [
    {
     "data": {
      "text/plain": [
       "LinearRegression()"
      ]
     },
     "execution_count": 43,
     "metadata": {},
     "output_type": "execute_result"
    }
   ],
   "source": [
    "# Se entrena\n",
    "reg_2.fit(X_train, y_train)"
   ]
  },
  {
   "cell_type": "code",
   "execution_count": 44,
   "metadata": {},
   "outputs": [],
   "source": [
    "# Se predice\n",
    "y_train_pred_2 = reg_2.predict(X_train)\n",
    "y_test_pred_2 = reg_2.predict(X_test)"
   ]
  },
  {
   "cell_type": "code",
   "execution_count": 45,
   "metadata": {},
   "outputs": [
    {
     "name": "stdout",
     "output_type": "stream",
     "text": [
      "Raíz del error cuadrático medio en Train: 76497.870711293\n",
      "Raíz del error cuadrático medio en Test: 77770.77184887973\n"
     ]
    },
    {
     "data": {
      "image/png": "[encoded data removed]",
      "text/plain": [
       "<Figure size 720x288 with 2 Axes>"
      ]
     },
     "metadata": {
      "needs_background": "light"
     },
     "output_type": "display_data"
    }
   ],
   "source": [
    "from sklearn.metrics import mean_squared_error\n",
    "\n",
    "rmse_train = np.sqrt(mean_squared_error(y_train, y_train_pred_2))\n",
    "rmse_test = np.sqrt(mean_squared_error(y_test, y_test_pred_2))\n",
    "print(f'Raíz del error cuadrático medio en Train: {rmse_train}')\n",
    "print(f'Raíz del error cuadrático medio en Test: {rmse_test}')\n",
    "\n",
    "plt.figure(figsize = (10,4))\n",
    "\n",
    "plt.subplot(1,2,1)\n",
    "sns.distplot(y_train - y_train_pred_2, bins = 30, label = 'train')\n",
    "sns.distplot(y_test - y_test_pred_2, bins = 30, label = 'test')\n",
    "plt.xlabel('errores')\n",
    "plt.xlim(-300000, 300000)\n",
    "plt.legend()\n",
    "\n",
    "\n",
    "ax = plt.subplot(1,2,2)\n",
    "ax.scatter(y_test,y_test_pred_2, s =2)\n",
    "\n",
    "lims = [\n",
    "np.min([ax.get_xlim(), ax.get_ylim()]),  # min of both axes\n",
    "np.max([ax.get_xlim(), ax.get_ylim()]),  # max of both axes]\n",
    "]\n",
    "\n",
    "ax.plot(lims, lims, 'k-', alpha=0.75, zorder=0)\n",
    "plt.xlabel('y (test)')\n",
    "plt.ylabel('y_pred (test)')\n",
    "\n",
    "plt.tight_layout()\n",
    "plt.show()\n",
    "\n",
    "#¿Que modelo entrenado elegir?\n",
    "\n",
    "# Elegimos la nueva regresión lineal? El RMSE es mayor que en proyecto 1\n",
    "# La diferencia entre el RMSE de la muestra train y la muestra test es pequeña perop el modelo puede mejorar\n",
    "# Se decide probar otros modelos"
   ]
  },
  {
   "cell_type": "code",
   "execution_count": 46,
   "metadata": {},
   "outputs": [],
   "source": [
    "# Empezamos a buscar el mejor modelos\n",
    "from sklearn.preprocessing import PolynomialFeatures\n",
    "from sklearn.linear_model import Ridge, Lasso\n",
    "from sklearn.model_selection import GridSearchCV\n",
    "from sklearn.ensemble import RandomForestRegressor\n",
    "from sklearn.svm import SVR\n",
    "import xgboost as xgb\n",
    "from sklearn.model_selection import cross_val_score"
   ]
  },
  {
   "cell_type": "code",
   "execution_count": 47,
   "metadata": {},
   "outputs": [],
   "source": [
    "reg_rf = RandomForestRegressor()\n",
    "reg_knn = KNeighborsRegressor()\n",
    "reg_xgb = xgb.XGBRegressor()"
   ]
  },
  {
   "cell_type": "code",
   "execution_count": 48,
   "metadata": {},
   "outputs": [
    {
     "data": {
      "text/plain": [
       "RandomForestRegressor()"
      ]
     },
     "execution_count": 48,
     "metadata": {},
     "output_type": "execute_result"
    }
   ],
   "source": [
    "reg_rf.fit(X_test, y_test)"
   ]
  },
  {
   "cell_type": "code",
   "execution_count": 49,
   "metadata": {},
   "outputs": [
    {
     "data": {
      "text/plain": [
       "KNeighborsRegressor()"
      ]
     },
     "execution_count": 49,
     "metadata": {},
     "output_type": "execute_result"
    }
   ],
   "source": [
    "reg_knn.fit(X_test, y_test)"
   ]
  },
  {
   "cell_type": "code",
   "execution_count": 50,
   "metadata": {},
   "outputs": [
    {
     "data": {
      "text/plain": [
       "XGBRegressor(base_score=0.5, booster='gbtree', colsample_bylevel=1,\n",
       "             colsample_bynode=1, colsample_bytree=1, gamma=0, gpu_id=-1,\n",
       "             importance_type='gain', interaction_constraints='',\n",
       "             learning_rate=0.300000012, max_delta_step=0, max_depth=6,\n",
       "             min_child_weight=1, missing=nan, monotone_constraints='()',\n",
       "             n_estimators=100, n_jobs=0, num_parallel_tree=1, random_state=0,\n",
       "             reg_alpha=0, reg_lambda=1, scale_pos_weight=1, subsample=1,\n",
       "             tree_method='exact', validate_parameters=1, verbosity=None)"
      ]
     },
     "execution_count": 50,
     "metadata": {},
     "output_type": "execute_result"
    }
   ],
   "source": [
    "reg_xgb.fit(X_test, y_test)"
   ]
  },
  {
   "cell_type": "code",
   "execution_count": 51,
   "metadata": {},
   "outputs": [],
   "source": [
    "# Modelo Random Forest\n",
    "# Buscamos mejores hiperparametros\n",
    "tree_parameters = {'n_estimators':[100, 200, 300],\n",
    "              'max_depth': [None, 5, 10, 15, 20], \n",
    "              'max_features': ['auto', 'log2']}"
   ]
  },
  {
   "cell_type": "code",
   "execution_count": 52,
   "metadata": {},
   "outputs": [
    {
     "data": {
      "text/plain": [
       "GridSearchCV(cv=4, estimator=RandomForestRegressor(), n_jobs=-2,\n",
       "             param_grid={'max_depth': [None, 5, 10, 15, 20],\n",
       "                         'max_features': ['auto', 'log2'],\n",
       "                         'n_estimators': [100, 200, 300]})"
      ]
     },
     "execution_count": 52,
     "metadata": {},
     "output_type": "execute_result"
    }
   ],
   "source": [
    "tree_model = GridSearchCV(reg_rf, param_grid=tree_parameters, cv=4, n_jobs=-2)\n",
    "tree_model.fit(X_train, y_train)"
   ]
  },
  {
   "cell_type": "code",
   "execution_count": 53,
   "metadata": {},
   "outputs": [
    {
     "name": "stdout",
     "output_type": "stream",
     "text": [
      "Mejores parametros: {'max_depth': 10, 'max_features': 'log2', 'n_estimators': 200}\n",
      "Mejor Score: 0.6955735299980622\n",
      "\n"
     ]
    }
   ],
   "source": [
    "print(\"Mejores parametros: \"+str(tree_model.best_params_))\n",
    "print(\"Mejor Score: \"+str(tree_model.best_score_)+'\\n')\n",
    "\n",
    "tree_score = pd.DataFrame(tree_model.cv_results_)"
   ]
  },
  {
   "cell_type": "code",
   "execution_count": 54,
   "metadata": {},
   "outputs": [
    {
     "name": "stdout",
     "output_type": "stream",
     "text": [
      "55639.225414190885\n",
      "57306.21230672616\n"
     ]
    }
   ],
   "source": [
    "y_train_pred_rf = tree_model.predict(X_train)\n",
    "y_test_pred_rf = tree_model.predict(X_test)\n",
    "print(np.sqrt(mean_squared_error(y_train, y_train_pred_rf)))\n",
    "print(np.sqrt(mean_squared_error(y_test, y_test_pred_rf)))"
   ]
  },
  {
   "cell_type": "code",
   "execution_count": 55,
   "metadata": {},
   "outputs": [],
   "source": [
    "# Modelo KNN\n",
    "# Buscamos mejores hiperparametros\n",
    "knn_parameters = {'n_neighbors':[1,3,5,7,9,11,13,15,17,19,21,23,25,27,29],\n",
    "              'weights': ['uniform', 'distance'], \n",
    "              'leaf_size':[1,3,5,7,10, 11, 13, 15],\n",
    "              'algorithm':['auto', 'kd_tree']}"
   ]
  },
  {
   "cell_type": "code",
   "execution_count": 56,
   "metadata": {},
   "outputs": [
    {
     "data": {
      "text/plain": [
       "GridSearchCV(cv=4, estimator=KNeighborsRegressor(), n_jobs=-2,\n",
       "             param_grid={'algorithm': ['auto', 'kd_tree'],\n",
       "                         'leaf_size': [1, 3, 5, 7, 10, 11, 13, 15],\n",
       "                         'n_neighbors': [1, 3, 5, 7, 9, 11, 13, 15, 17, 19, 21,\n",
       "                                         23, 25, 27, 29],\n",
       "                         'weights': ['uniform', 'distance']})"
      ]
     },
     "execution_count": 56,
     "metadata": {},
     "output_type": "execute_result"
    }
   ],
   "source": [
    "knn_model = GridSearchCV(reg_knn, param_grid=knn_parameters, cv=4, n_jobs=-2)\n",
    "knn_model.fit(X_train, y_train)"
   ]
  },
  {
   "cell_type": "code",
   "execution_count": 57,
   "metadata": {},
   "outputs": [
    {
     "name": "stdout",
     "output_type": "stream",
     "text": [
      "Mejores parametros: {'algorithm': 'auto', 'leaf_size': 10, 'n_neighbors': 29, 'weights': 'distance'}\n",
      "Mejor Score: 0.6862195884351118\n",
      "\n"
     ]
    }
   ],
   "source": [
    "print(\"Mejores parametros: \"+str(knn_model.best_params_))\n",
    "print(\"Mejor Score: \"+str(knn_model.best_score_)+'\\n')\n",
    "\n",
    "knn_score = pd.DataFrame(knn_model.cv_results_)"
   ]
  },
  {
   "cell_type": "code",
   "execution_count": 58,
   "metadata": {},
   "outputs": [
    {
     "name": "stdout",
     "output_type": "stream",
     "text": [
      "Error en train:  53875.91333226452\n",
      "Error en test:  57778.15432664399\n"
     ]
    }
   ],
   "source": [
    "y_train_pred_knn = knn_model.predict(X_train)\n",
    "y_test_pred_knn = knn_model.predict(X_test)\n",
    "print('Error en train: ', np.sqrt(mean_squared_error(y_train, y_train_pred_knn)))\n",
    "print('Error en test: ', np.sqrt(mean_squared_error(y_test, y_test_pred_knn)))"
   ]
  },
  {
   "cell_type": "code",
   "execution_count": 59,
   "metadata": {},
   "outputs": [],
   "source": [
    "# Modelo XGB\n",
    "# Buscamos mejores hiperparametros\n",
    "xgb_parameters = {'n_estimators':[100, 200, 300, 400],\n",
    "           'max_depth': [4,6,8,10],\n",
    "           'eta': [0.1,0.3, 0.5],\n",
    "           'max_levels': [4,5,6,7,8],\n",
    "           'subsample': [0.5,0.75,1.0]}"
   ]
  },
  {
   "cell_type": "code",
   "execution_count": 60,
   "metadata": {},
   "outputs": [
    {
     "name": "stdout",
     "output_type": "stream",
     "text": [
      "[15:08:12] WARNING: /Users/runner/miniforge3/conda-bld/xgboost_1598185652448/work/src/learner.cc:516: \n",
      "Parameters: { max_levels } might not be used.\n",
      "\n",
      "  This may not be accurate due to some parameters are only used in language bindings but\n",
      "  passed down to XGBoost core.  Or some parameters are not used but slip through this\n",
      "  verification. Please open an issue if you find above cases.\n",
      "\n",
      "\n"
     ]
    },
    {
     "data": {
      "text/plain": [
       "GridSearchCV(cv=4,\n",
       "             estimator=XGBRegressor(base_score=0.5, booster='gbtree',\n",
       "                                    colsample_bylevel=1, colsample_bynode=1,\n",
       "                                    colsample_bytree=1, gamma=0, gpu_id=-1,\n",
       "                                    importance_type='gain',\n",
       "                                    interaction_constraints='',\n",
       "                                    learning_rate=0.300000012, max_delta_step=0,\n",
       "                                    max_depth=6, min_child_weight=1,\n",
       "                                    missing=nan, monotone_constraints='()',\n",
       "                                    n_estimators=100, n_jobs=0,\n",
       "                                    num_parallel_tree=1, random_state=0,\n",
       "                                    reg_alpha=0, reg_lambda=1,\n",
       "                                    scale_pos_weight=1, subsample=1,\n",
       "                                    tree_method='exact', validate_parameters=1,\n",
       "                                    verbosity=None),\n",
       "             n_jobs=-2,\n",
       "             param_grid={'eta': [0.1, 0.3, 0.5], 'max_depth': [4, 6, 8, 10],\n",
       "                         'max_levels': [4, 5, 6, 7, 8],\n",
       "                         'n_estimators': [100, 200, 300, 400],\n",
       "                         'subsample': [0.5, 0.75, 1.0]})"
      ]
     },
     "execution_count": 60,
     "metadata": {},
     "output_type": "execute_result"
    }
   ],
   "source": [
    "xgb_model = GridSearchCV(reg_xgb, param_grid= xgb_parameters, cv=4, n_jobs=-2)\n",
    "xgb_model.fit(X_train, y_train)"
   ]
  },
  {
   "cell_type": "code",
   "execution_count": 61,
   "metadata": {},
   "outputs": [
    {
     "name": "stdout",
     "output_type": "stream",
     "text": [
      "Mejores parametros: {'eta': 0.1, 'max_depth': 4, 'max_levels': 4, 'n_estimators': 300, 'subsample': 1.0}\n",
      "Mejor Score: 0.695921344288487\n",
      "\n"
     ]
    }
   ],
   "source": [
    "print(\"Mejores parametros: \"+str(xgb_model.best_params_))\n",
    "print(\"Mejor Score: \"+str(xgb_model.best_score_)+'\\n')\n",
    "\n",
    "xgb_score = pd.DataFrame(xgb_model.cv_results_)"
   ]
  },
  {
   "cell_type": "code",
   "execution_count": 62,
   "metadata": {},
   "outputs": [
    {
     "name": "stdout",
     "output_type": "stream",
     "text": [
      "54618.88000765608\n",
      "57059.833609029985\n"
     ]
    }
   ],
   "source": [
    "y_train_pred_xgb= xgb_model.predict(X_train)\n",
    "y_test_pred_xgb= xgb_model.predict(X_test)\n",
    "print(np.sqrt(mean_squared_error(y_train, y_train_pred_xgb)))\n",
    "print(np.sqrt(mean_squared_error(y_test, y_test_pred_xgb)))"
   ]
  },
  {
   "cell_type": "code",
   "execution_count": 63,
   "metadata": {},
   "outputs": [
    {
     "data": {
      "text/html": [
       "<div>\n",
       "<style scoped>\n",
       "    .dataframe tbody tr th:only-of-type {\n",
       "        vertical-align: middle;\n",
       "    }\n",
       "\n",
       "    .dataframe tbody tr th {\n",
       "        vertical-align: top;\n",
       "    }\n",
       "\n",
       "    .dataframe thead th {\n",
       "        text-align: right;\n",
       "    }\n",
       "</style>\n",
       "<table border=\"1\" class=\"dataframe\">\n",
       "  <thead>\n",
       "    <tr style=\"text-align: right;\">\n",
       "      <th></th>\n",
       "      <th>0</th>\n",
       "      <th>1</th>\n",
       "      <th>2</th>\n",
       "      <th>3</th>\n",
       "    </tr>\n",
       "  </thead>\n",
       "  <tbody>\n",
       "    <tr>\n",
       "      <th>PC1</th>\n",
       "      <td>0.393430</td>\n",
       "      <td>0.657945</td>\n",
       "      <td>0.640136</td>\n",
       "      <td>-0.050478</td>\n",
       "    </tr>\n",
       "    <tr>\n",
       "      <th>PC2</th>\n",
       "      <td>0.916474</td>\n",
       "      <td>-0.228054</td>\n",
       "      <td>-0.328729</td>\n",
       "      <td>0.001784</td>\n",
       "    </tr>\n",
       "    <tr>\n",
       "      <th>PC3</th>\n",
       "      <td>0.072076</td>\n",
       "      <td>-0.707633</td>\n",
       "      <td>0.692513</td>\n",
       "      <td>0.120362</td>\n",
       "    </tr>\n",
       "    <tr>\n",
       "      <th>PC4</th>\n",
       "      <td>0.009632</td>\n",
       "      <td>0.119816</td>\n",
       "      <td>-0.050888</td>\n",
       "      <td>0.991444</td>\n",
       "    </tr>\n",
       "  </tbody>\n",
       "</table>\n",
       "</div>"
      ],
      "text/plain": [
       "            0         1         2         3\n",
       "PC1  0.393430  0.657945  0.640136 -0.050478\n",
       "PC2  0.916474 -0.228054 -0.328729  0.001784\n",
       "PC3  0.072076 -0.707633  0.692513  0.120362\n",
       "PC4  0.009632  0.119816 -0.050888  0.991444"
      ]
     },
     "execution_count": 63,
     "metadata": {},
     "output_type": "execute_result"
    }
   ],
   "source": [
    "pc = pd.DataFrame(data = pca.components_, index = ['PC1', 'PC2', 'PC3', 'PC4'])\n",
    "pc\n",
    "\n",
    "# 0 = 'surface_covered', 1 = 'bedrooms', 2 = 'bathrooms', 3 = 'property_type_Departamento'\n",
    "# Componente 1 toma bedrooms como la más importante \n",
    "# Componente 2 y 3 toman surface_covered como la más importante\n",
    "# Componente 4 toma property_type_Departamento como la más importante "
   ]
  },
  {
   "cell_type": "code",
   "execution_count": 64,
   "metadata": {},
   "outputs": [
    {
     "data": {
      "text/html": [
       "<div>\n",
       "<style scoped>\n",
       "    .dataframe tbody tr th:only-of-type {\n",
       "        vertical-align: middle;\n",
       "    }\n",
       "\n",
       "    .dataframe tbody tr th {\n",
       "        vertical-align: top;\n",
       "    }\n",
       "\n",
       "    .dataframe thead th {\n",
       "        text-align: right;\n",
       "    }\n",
       "</style>\n",
       "<table border=\"1\" class=\"dataframe\">\n",
       "  <thead>\n",
       "    <tr style=\"text-align: right;\">\n",
       "      <th></th>\n",
       "      <th>0</th>\n",
       "    </tr>\n",
       "  </thead>\n",
       "  <tbody>\n",
       "    <tr>\n",
       "      <th>0</th>\n",
       "      <td>0.347903</td>\n",
       "    </tr>\n",
       "    <tr>\n",
       "      <th>1</th>\n",
       "      <td>-0.039482</td>\n",
       "    </tr>\n",
       "    <tr>\n",
       "      <th>2</th>\n",
       "      <td>0.238258</td>\n",
       "    </tr>\n",
       "    <tr>\n",
       "      <th>3</th>\n",
       "      <td>0.265778</td>\n",
       "    </tr>\n",
       "  </tbody>\n",
       "</table>\n",
       "</div>"
      ],
      "text/plain": [
       "          0\n",
       "0  0.347903\n",
       "1 -0.039482\n",
       "2  0.238258\n",
       "3  0.265778"
      ]
     },
     "execution_count": 64,
     "metadata": {},
     "output_type": "execute_result"
    }
   ],
   "source": [
    "pd.DataFrame(pc.mean())\n",
    "# Encontramos que los mejores predictores son:\n",
    "# surface_covered (34%)\n",
    "# bathrooms (23%)\n",
    "# property_type_Departamento (26%)"
   ]
  },
  {
   "cell_type": "code",
   "execution_count": 66,
   "metadata": {},
   "outputs": [
    {
     "name": "stdout",
     "output_type": "stream",
     "text": [
      "[0.53146931 0.28344323 0.1514397  0.03364777]\n"
     ]
    },
    {
     "data": {
      "text/plain": [
       "Text(0, 0.5, 'varianza explicada')"
      ]
     },
     "execution_count": 66,
     "metadata": {},
     "output_type": "execute_result"
    },
    {
     "data": {
      "image/png": "[encoded data removed]",
      "text/plain": [
       "<Figure size 432x288 with 1 Axes>"
      ]
     },
     "metadata": {
      "needs_background": "light"
     },
     "output_type": "display_data"
    }
   ],
   "source": [
    "print(pca.explained_variance_ratio_)\n",
    "\n",
    "fig, ax = plt.subplots(nrows=1, ncols=1, figsize=(6, 4))\n",
    "ax.bar(x = np.arange(pca.n_components_) + 1, height = pca.explained_variance_ratio_)\n",
    "\n",
    "for x, y in zip(np.arange(len(X)) + 1, pca.explained_variance_ratio_):\n",
    "    label = round(y, 2)\n",
    "    ax.annotate(label, (x,y),textcoords=\"offset points\",xytext=(0,10),ha=\"center\")\n",
    "\n",
    "ax.set_xticks(np.arange(pca.n_components_) + 1)\n",
    "ax.set_ylim(0, 1.1)\n",
    "ax.set_title(\"Porcentaje de varianza explicada por cada componente\")\n",
    "ax.set_xlabel(\"Componente principal\")\n",
    "ax.set_ylabel(\"varianza explicada\")\n",
    "\n",
    "# Al primer componente se le atribuye el 53% de la varianza explicada"
   ]
  },
  {
   "cell_type": "code",
   "execution_count": 67,
   "metadata": {},
   "outputs": [],
   "source": [
    "# Teniendo los mejores hiperparameters por cada modelo, vamos a ver cual resulta mejor\n",
    "# Pero antes probaremos:\n",
    "# Atributos polinómicos\n",
    "# Ridge\n",
    "# Lasso"
   ]
  },
  {
   "cell_type": "code",
   "execution_count": 104,
   "metadata": {},
   "outputs": [
    {
     "name": "stdout",
     "output_type": "stream",
     "text": [
      "Index(['surface_covered', 'bedrooms', 'bathrooms',\n",
      "       'property_type_Departamento'],\n",
      "      dtype='object')\n",
      "0         153000.0\n",
      "1         159000.0\n",
      "2         125000.0\n",
      "3         295000.0\n",
      "5         150000.0\n",
      "            ...   \n",
      "146550    298000.0\n",
      "146552    539000.0\n",
      "146554    570000.0\n",
      "146555    480000.0\n",
      "146557    420000.0\n",
      "Name: price, Length: 73460, dtype: float64\n"
     ]
    }
   ],
   "source": [
    "# Atributos polinómicos\n",
    "from sklearn.preprocessing import PolynomialFeatures\n",
    "\n",
    "X = data_properati_final[['surface_covered', 'bedrooms', 'bathrooms', 'property_type_Departamento']]\n",
    "print(X.columns)\n",
    "\n",
    "y = data_properati_final['price']\n",
    "print(y)"
   ]
  },
  {
   "cell_type": "code",
   "execution_count": 105,
   "metadata": {},
   "outputs": [],
   "source": [
    "X_train, X_test, y_train, y_test = train_test_split(X, y, test_size=0.3, random_state=42)"
   ]
  },
  {
   "cell_type": "code",
   "execution_count": 106,
   "metadata": {},
   "outputs": [
    {
     "name": "stdout",
     "output_type": "stream",
     "text": [
      "(51422, 34) (22038, 34)\n"
     ]
    }
   ],
   "source": [
    "poly = PolynomialFeatures(3, include_bias=False)\n",
    "X_train_new = poly.fit_transform(X_train)\n",
    "X_test_new = poly.fit_transform(X_test)\n",
    "print(X_train_new.shape, X_test_new.shape)"
   ]
  },
  {
   "cell_type": "code",
   "execution_count": 107,
   "metadata": {},
   "outputs": [
    {
     "name": "stdout",
     "output_type": "stream",
     "text": [
      "[ 1.43742902e+05  1.46520401e+04  2.40115454e+04  1.27478779e+04\n",
      " -6.16067613e+03  4.19856293e+04  6.43815697e+04  6.66695937e+04\n",
      " -6.66718953e+03 -2.07615413e+04 -1.03729322e+04 -5.23828326e+03\n",
      "  7.25866136e+03  1.27478779e+04  7.78991094e+01 -1.35724940e+03\n",
      " -4.48448527e+02 -3.12802435e+03 -1.19328288e+04 -3.91459227e+04\n",
      "  9.02456718e+03 -1.06737464e+03 -2.48663132e+04  6.66695937e+04\n",
      "  9.35707130e+02  7.25586959e+03 -3.23345631e+03  2.39217480e+03\n",
      "  1.90260407e+03 -1.03729322e+04  2.26455738e+02  3.53046700e+02\n",
      "  7.25866136e+03  1.27478779e+04] 177390.5654462492\n"
     ]
    }
   ],
   "source": [
    "reg_2 = LinearRegression()\n",
    "reg_2.fit(X_train_new, y_train)\n",
    "print(reg_2.coef_, reg_2.intercept_)\n",
    "y_train_pred_2 = reg_2.predict(X_train_new)\n",
    "y_test_pred_2 = reg_2.predict(X_test_new)"
   ]
  },
  {
   "cell_type": "code",
   "execution_count": 108,
   "metadata": {},
   "outputs": [
    {
     "name": "stdout",
     "output_type": "stream",
     "text": [
      "Raíz del error cuadrático medio en Train: 76497.870711293\n",
      "Raíz del error cuadrático medio en Test: 77770.77184887973\n"
     ]
    }
   ],
   "source": [
    "rmse_train = np.sqrt(mean_squared_error(y_train, y_train_pred_3))\n",
    "rmse_test = np.sqrt(mean_squared_error(y_test, y_test_pred_3))\n",
    "\n",
    "print(f'Raíz del error cuadrático medio en Train: {rmse_train}')\n",
    "print(f'Raíz del error cuadrático medio en Test: {rmse_test}')"
   ]
  },
  {
   "cell_type": "code",
   "execution_count": 109,
   "metadata": {},
   "outputs": [],
   "source": [
    "# Ridge\n",
    "from sklearn.linear_model import Ridge, Lasso"
   ]
  },
  {
   "cell_type": "code",
   "execution_count": 110,
   "metadata": {},
   "outputs": [],
   "source": [
    "X_train, X_test, y_train_ridge, y_test_ridge = train_test_split(X, y, test_size=0.3, random_state=42)"
   ]
  },
  {
   "cell_type": "code",
   "execution_count": 111,
   "metadata": {},
   "outputs": [
    {
     "name": "stdout",
     "output_type": "stream",
     "text": [
      "Pendientes: [ 1.43741595e+05  1.46522173e+04  2.40117507e+04  1.27478279e+04\n",
      " -6.16065492e+03  4.19860341e+04  6.43803536e+04  6.66698653e+04\n",
      " -6.66728119e+03 -2.07613120e+04 -1.03729577e+04 -5.23826216e+03\n",
      "  7.25858095e+03  1.27478279e+04  7.78989204e+01 -1.35724956e+03\n",
      " -4.48444972e+02 -3.12802288e+03 -1.19327956e+04 -3.91457065e+04\n",
      "  9.02425010e+03 -1.06724623e+03 -2.48654026e+04  6.66698653e+04\n",
      "  9.35707766e+02  7.25583448e+03 -3.23339036e+03  2.39212843e+03\n",
      "  1.90242123e+03 -1.03729577e+04  2.26454248e+02  3.53035290e+02\n",
      "  7.25858086e+03  1.27478279e+04]\n",
      "Ordenada: 177390.7054937593\n"
     ]
    }
   ],
   "source": [
    "reg_ridge = Ridge(alpha= 0.005)\n",
    "reg_ridge.fit(X_train_new, y_train)\n",
    "\n",
    "y_train_pred_ridge = reg_ridge.predict(X_train_new)\n",
    "y_test_pred_ridge = reg_ridge.predict(X_test_new)\n",
    "\n",
    "print(f'Pendientes: {reg_ridge.coef_}')\n",
    "print(f'Ordenada: {reg_ridge.intercept_}')"
   ]
  },
  {
   "cell_type": "code",
   "execution_count": 112,
   "metadata": {},
   "outputs": [
    {
     "name": "stdout",
     "output_type": "stream",
     "text": [
      "Raíz del error cuadrático medio en Train: 63219.6306659063\n",
      "Raíz del error cuadrático medio en Test: 110977.02181672718\n"
     ]
    }
   ],
   "source": [
    "rmse_train = np.sqrt(mean_squared_error(y_train_ridge, y_train_pred_ridge))\n",
    "rmse_test = np.sqrt(mean_squared_error(y_test_ridge, y_test_pred_ridge))\n",
    "\n",
    "print(f'Raíz del error cuadrático medio en Train: {rmse_train}')\n",
    "print(f'Raíz del error cuadrático medio en Test: {rmse_test}')"
   ]
  },
  {
   "cell_type": "code",
   "execution_count": 113,
   "metadata": {},
   "outputs": [],
   "source": [
    "# Lasso"
   ]
  },
  {
   "cell_type": "code",
   "execution_count": 114,
   "metadata": {},
   "outputs": [],
   "source": [
    "X_train, X_test, y_train_lasso, y_test_lasso = train_test_split(X, y, test_size=0.3, random_state=42)"
   ]
  },
  {
   "cell_type": "code",
   "execution_count": 115,
   "metadata": {},
   "outputs": [
    {
     "name": "stdout",
     "output_type": "stream",
     "text": [
      "[ 7.29593087e+04  2.66106846e+04  2.84527006e+04  2.84090012e+04\n",
      " -3.70444840e+03  4.98364342e+04  9.32329688e+04  1.49190160e+05\n",
      " -9.23498741e+03 -2.71553377e+04 -2.78599021e+04 -5.98787508e+03\n",
      "  9.88745267e+03  5.74120095e+03  6.45204017e+01 -7.99756306e+02\n",
      " -5.94958987e+02 -4.60994873e+03 -9.68771265e+03 -3.63457113e+04\n",
      " -9.58339181e+03 -5.13781585e+03 -4.16004467e+04  4.64289830e+04\n",
      "  8.65237721e+02  6.66856241e+03 -3.87905882e+01  3.17009533e+03\n",
      "  7.36784239e+03 -4.40875491e+03  2.49075968e+02  5.35455054e+02\n",
      "  1.41789249e+03  1.98377847e+03] 179700.17468800733\n"
     ]
    },
    {
     "name": "stderr",
     "output_type": "stream",
     "text": [
      "/opt/anaconda3/envs/data_science/lib/python3.8/site-packages/sklearn/linear_model/_coordinate_descent.py:529: ConvergenceWarning: Objective did not converge. You might want to increase the number of iterations. Duality gap: 103810653707082.48, tolerance: 56169570997.48259\n",
      "  model = cd_fast.enet_coordinate_descent(\n"
     ]
    }
   ],
   "source": [
    "reg_lasso = Lasso(alpha = 0.001)\n",
    "reg_lasso.fit(X_train_new,y_train)\n",
    "\n",
    "y_train_pred_lasso = reg_lasso.predict(X_train_new)\n",
    "y_test_pred_lasso = reg_lasso.predict(X_test_new)\n",
    "\n",
    "print(reg_lasso.coef_, reg_lasso.intercept_)"
   ]
  },
  {
   "cell_type": "code",
   "execution_count": 116,
   "metadata": {},
   "outputs": [
    {
     "name": "stdout",
     "output_type": "stream",
     "text": [
      "Raíz del error cuadrático medio en Train: 63542.07631262939\n",
      "Raíz del error cuadrático medio en Test: 129740.90473617804\n"
     ]
    }
   ],
   "source": [
    "rmse_train = np.sqrt(mean_squared_error(y_train_lasso, y_train_pred_lasso))\n",
    "rmse_test = np.sqrt(mean_squared_error(y_test_lasso, y_test_pred_lasso))\n",
    "\n",
    "print(f'Raíz del error cuadrático medio en Train: {rmse_train}')\n",
    "print(f'Raíz del error cuadrático medio en Test: {rmse_test}')"
   ]
  },
  {
   "cell_type": "code",
   "execution_count": 117,
   "metadata": {},
   "outputs": [],
   "source": [
    "# Atributos polinómicos\n",
    "# Ridge\n",
    "# Lasso\n",
    "# Son descartados, este tipo de modelos no se ajusta a lo buscado"
   ]
  },
  {
   "cell_type": "code",
   "execution_count": 118,
   "metadata": {},
   "outputs": [],
   "source": [
    "# Buscamos mejores modelos\n",
    "# Teniendo los mejores hiperparameters por cada modelo, ahora sí vamos a ver cual resulta mejor\n",
    "\n",
    "# Buscamos el mejor modelo entre:\n",
    "# Random Forest con sus mejore parameters\n",
    "# KNN con sus mejore parameters\n",
    "# XGBoost con sus mejore parameters"
   ]
  },
  {
   "cell_type": "code",
   "execution_count": 69,
   "metadata": {},
   "outputs": [
    {
     "name": "stdout",
     "output_type": "stream",
     "text": [
      "[[ 4.47407514 -1.04290662 -3.28433444  0.76080474]\n",
      " [-0.03863473 -0.17459098  1.16840715 -1.01971251]\n",
      " [-1.04495836  0.22233932  0.1176263  -0.9440972 ]\n",
      " ...\n",
      " [ 2.5298261  -0.76587363  0.70234493 -0.83129794]\n",
      " [ 0.92402643  0.15124346  0.44325306 -0.88325199]\n",
      " [ 0.90921817  0.23611915  0.5701497   0.10906554]]\n",
      "0.03364776837341436\n"
     ]
    }
   ],
   "source": [
    "X_2 = data_properati_final[['surface_covered', 'bedrooms', 'bathrooms', 'property_type_Departamento']]\n",
    "print(X)\n",
    "\n",
    "y_2 = data_properati_final['price']\n",
    "print(y)"
   ]
  },
  {
   "cell_type": "code",
   "execution_count": 70,
   "metadata": {},
   "outputs": [],
   "source": [
    "pca_2 = PCA()\n",
    "\n",
    "X_2 = pca_2.fit_transform(X_2)"
   ]
  },
  {
   "cell_type": "code",
   "execution_count": 71,
   "metadata": {},
   "outputs": [],
   "source": [
    "# Se realiza tran test split\n",
    "X_train, X_test, y_train, y_test = train_test_split(X_2, y_2, test_size= 0.3, random_state= 42)"
   ]
  },
  {
   "cell_type": "code",
   "execution_count": 72,
   "metadata": {},
   "outputs": [],
   "source": [
    "from sklearn.linear_model import LinearRegression\n",
    "reg_3 = LinearRegression()"
   ]
  },
  {
   "cell_type": "code",
   "execution_count": 73,
   "metadata": {},
   "outputs": [
    {
     "data": {
      "text/plain": [
       "LinearRegression()"
      ]
     },
     "execution_count": 73,
     "metadata": {},
     "output_type": "execute_result"
    }
   ],
   "source": [
    "reg_3.fit(X_train, y_train)"
   ]
  },
  {
   "cell_type": "code",
   "execution_count": 74,
   "metadata": {},
   "outputs": [],
   "source": [
    "y_train_pred_3 = reg_3.predict(X_train)\n",
    "y_test_pred_3 = reg_3.predict(X_test)"
   ]
  },
  {
   "cell_type": "code",
   "execution_count": 75,
   "metadata": {},
   "outputs": [
    {
     "name": "stdout",
     "output_type": "stream",
     "text": [
      "Raíz del error cuadrático medio en Train: 76497.870711293\n",
      "Raíz del error cuadrático medio en Test: 77770.77184887973\n"
     ]
    },
    {
     "data": {
      "image/png": "[encoded data removed]",
      "text/plain": [
       "<Figure size 720x288 with 2 Axes>"
      ]
     },
     "metadata": {
      "needs_background": "light"
     },
     "output_type": "display_data"
    }
   ],
   "source": [
    "rmse_train = np.sqrt(mean_squared_error(y_train, y_train_pred_3))\n",
    "rmse_test = np.sqrt(mean_squared_error(y_test, y_test_pred_3))\n",
    "print(f'Raíz del error cuadrático medio en Train: {rmse_train}')\n",
    "print(f'Raíz del error cuadrático medio en Test: {rmse_test}')\n",
    "\n",
    "plt.figure(figsize = (10,4))\n",
    "\n",
    "plt.subplot(1,2,1)\n",
    "sns.distplot(y_train - y_train_pred_3, bins = 30, label = 'train')\n",
    "sns.distplot(y_test - y_test_pred_3, bins = 30, label = 'test')\n",
    "plt.xlabel('errores')\n",
    "plt.xlim(-300000, 300000)\n",
    "plt.legend()\n",
    "\n",
    "\n",
    "ax = plt.subplot(1,2,2)\n",
    "ax.scatter(y_test,y_test_pred_3, s =2)\n",
    "\n",
    "lims = [\n",
    "np.min([ax.get_xlim(), ax.get_ylim()]),  # min of both axes\n",
    "np.max([ax.get_xlim(), ax.get_ylim()]),  # max of both axes]\n",
    "]\n",
    "\n",
    "ax.plot(lims, lims, 'k-', alpha=0.75, zorder=0)\n",
    "plt.xlabel('y (test)')\n",
    "plt.ylabel('y_pred (test)')\n",
    "\n",
    "plt.tight_layout()\n",
    "plt.show()"
   ]
  },
  {
   "cell_type": "code",
   "execution_count": 78,
   "metadata": {},
   "outputs": [],
   "source": [
    "# Random Forest con sus mejore parameters\n",
    "rf_best = RandomForestRegressor(max_depth = 10, max_features = 'log2', n_estimators = 200)"
   ]
  },
  {
   "cell_type": "code",
   "execution_count": 79,
   "metadata": {},
   "outputs": [
    {
     "data": {
      "text/plain": [
       "RandomForestRegressor(max_depth=10, max_features='log2', n_estimators=200)"
      ]
     },
     "execution_count": 79,
     "metadata": {},
     "output_type": "execute_result"
    }
   ],
   "source": [
    "rf_best.fit(X_train, y_train)"
   ]
  },
  {
   "cell_type": "code",
   "execution_count": 80,
   "metadata": {},
   "outputs": [
    {
     "data": {
      "text/plain": [
       "0.716595554554891"
      ]
     },
     "execution_count": 80,
     "metadata": {},
     "output_type": "execute_result"
    }
   ],
   "source": [
    "rf_best.score(X_train, y_train)"
   ]
  },
  {
   "cell_type": "code",
   "execution_count": 81,
   "metadata": {},
   "outputs": [],
   "source": [
    "y_train_pred_rf = rf_best.predict(X_train)\n",
    "y_test_pred_rf = rf_best.predict(X_test)"
   ]
  },
  {
   "cell_type": "code",
   "execution_count": 82,
   "metadata": {},
   "outputs": [
    {
     "name": "stdout",
     "output_type": "stream",
     "text": [
      "Raíz del error cuadrático medio en Train: 55639.01085815331\n",
      "Raíz del error cuadrático medio en Test: 57337.81160085757\n"
     ]
    }
   ],
   "source": [
    "rmse_train = np.sqrt(mean_squared_error(y_train, y_train_pred_rf))\n",
    "rmse_test = np.sqrt(mean_squared_error(y_test, y_test_pred_rf))\n",
    "print(f'Raíz del error cuadrático medio en Train: {rmse_train}')\n",
    "print(f'Raíz del error cuadrático medio en Test: {rmse_test}')"
   ]
  },
  {
   "cell_type": "code",
   "execution_count": 83,
   "metadata": {},
   "outputs": [],
   "source": [
    "# KNN con sus mejore parameters"
   ]
  },
  {
   "cell_type": "code",
   "execution_count": 84,
   "metadata": {},
   "outputs": [],
   "source": [
    "knn_best = KNeighborsRegressor(algorithm = 'auto', leaf_size = 10, n_neighbors = 29, weights = \"distance\")"
   ]
  },
  {
   "cell_type": "code",
   "execution_count": 85,
   "metadata": {},
   "outputs": [
    {
     "data": {
      "text/plain": [
       "KNeighborsRegressor(leaf_size=10, n_neighbors=29, weights='distance')"
      ]
     },
     "execution_count": 85,
     "metadata": {},
     "output_type": "execute_result"
    }
   ],
   "source": [
    "knn_best.fit(X_train, y_train)"
   ]
  },
  {
   "cell_type": "code",
   "execution_count": 86,
   "metadata": {},
   "outputs": [
    {
     "data": {
      "text/plain": [
       "0.734272104308691"
      ]
     },
     "execution_count": 86,
     "metadata": {},
     "output_type": "execute_result"
    }
   ],
   "source": [
    "knn_best.score(X_train, y_train)"
   ]
  },
  {
   "cell_type": "code",
   "execution_count": 87,
   "metadata": {},
   "outputs": [],
   "source": [
    "y_train_pred_knn = knn_best.predict(X_train)\n",
    "y_test_pred_knn = knn_best.predict(X_test)"
   ]
  },
  {
   "cell_type": "code",
   "execution_count": 88,
   "metadata": {},
   "outputs": [
    {
     "name": "stdout",
     "output_type": "stream",
     "text": [
      "Raíz del error cuadrático medio en Train: 53875.91333226452\n",
      "Raíz del error cuadrático medio en Test: 57778.15432664399\n"
     ]
    }
   ],
   "source": [
    "rmse_train = np.sqrt(mean_squared_error(y_train, y_train_pred_knn))\n",
    "rmse_test = np.sqrt(mean_squared_error(y_test, y_test_pred_knn))\n",
    "print(f'Raíz del error cuadrático medio en Train: {rmse_train}')\n",
    "print(f'Raíz del error cuadrático medio en Test: {rmse_test}')"
   ]
  },
  {
   "cell_type": "code",
   "execution_count": 95,
   "metadata": {},
   "outputs": [],
   "source": [
    "# XGBoost con sus mejore parameters"
   ]
  },
  {
   "cell_type": "code",
   "execution_count": 96,
   "metadata": {},
   "outputs": [],
   "source": [
    "xgb_best = xgb.XGBRegressor(eta= 0.1, max_depth= 4, max_levels= 4, n_estimators= 300, subsample= 1.0)"
   ]
  },
  {
   "cell_type": "code",
   "execution_count": 97,
   "metadata": {},
   "outputs": [
    {
     "name": "stdout",
     "output_type": "stream",
     "text": [
      "[17:21:25] WARNING: /Users/runner/miniforge3/conda-bld/xgboost_1598185652448/work/src/learner.cc:516: \n",
      "Parameters: { max_levels } might not be used.\n",
      "\n",
      "  This may not be accurate due to some parameters are only used in language bindings but\n",
      "  passed down to XGBoost core.  Or some parameters are not used but slip through this\n",
      "  verification. Please open an issue if you find above cases.\n",
      "\n",
      "\n"
     ]
    },
    {
     "data": {
      "text/plain": [
       "XGBRegressor(base_score=0.5, booster='gbtree', colsample_bylevel=1,\n",
       "             colsample_bynode=1, colsample_bytree=1, eta=0.1, gamma=0,\n",
       "             gpu_id=-1, importance_type='gain', interaction_constraints='',\n",
       "             learning_rate=0.100000001, max_delta_step=0, max_depth=4,\n",
       "             max_levels=4, min_child_weight=1, missing=nan,\n",
       "             monotone_constraints='()', n_estimators=300, n_jobs=0,\n",
       "             num_parallel_tree=1, random_state=0, reg_alpha=0, reg_lambda=1,\n",
       "             scale_pos_weight=1, subsample=1.0, tree_method='exact',\n",
       "             validate_parameters=1, verbosity=None)"
      ]
     },
     "execution_count": 97,
     "metadata": {},
     "output_type": "execute_result"
    }
   ],
   "source": [
    "xgb_best.fit(X_train, y_train)"
   ]
  },
  {
   "cell_type": "code",
   "execution_count": 98,
   "metadata": {},
   "outputs": [
    {
     "data": {
      "text/plain": [
       "0.7095074364126657"
      ]
     },
     "execution_count": 98,
     "metadata": {},
     "output_type": "execute_result"
    }
   ],
   "source": [
    "xgb_best.score(X_train, y_train)"
   ]
  },
  {
   "cell_type": "code",
   "execution_count": 99,
   "metadata": {},
   "outputs": [],
   "source": [
    "y_train_pred_xgb = xgb_best.predict(X_train)\n",
    "y_test_pred_xgb = xgb_best.predict(X_test)"
   ]
  },
  {
   "cell_type": "code",
   "execution_count": 100,
   "metadata": {},
   "outputs": [
    {
     "name": "stdout",
     "output_type": "stream",
     "text": [
      "Raíz del error cuadrático medio en Train: 56330.496747368365\n",
      "Raíz del error cuadrático medio en Test: 57719.53656801628\n"
     ]
    }
   ],
   "source": [
    "rmse_train = np.sqrt(mean_squared_error(y_train, y_train_pred_xgb))\n",
    "rmse_test = np.sqrt(mean_squared_error(y_test, y_test_pred_xgb))\n",
    "print(f'Raíz del error cuadrático medio en Train: {rmse_train}')\n",
    "print(f'Raíz del error cuadrático medio en Test: {rmse_test}')"
   ]
  },
  {
   "cell_type": "code",
   "execution_count": 101,
   "metadata": {},
   "outputs": [],
   "source": [
    "# XGBoost y Random Forest tienen metricas similares\n",
    "# Sin embargo el costo computacional de XGBoost en mucho mayor\n",
    "# Incluso en tiempo es espera al buscar los mejores hiperparameters\n",
    "# Por esta razón el mejor modelo es el Random Forest."
   ]
  },
  {
   "cell_type": "code",
   "execution_count": 120,
   "metadata": {},
   "outputs": [
    {
     "name": "stdout",
     "output_type": "stream",
     "text": [
      "Importancia de los predictores en el modelo Random Forest\n"
     ]
    },
    {
     "data": {
      "text/html": [
       "<div>\n",
       "<style scoped>\n",
       "    .dataframe tbody tr th:only-of-type {\n",
       "        vertical-align: middle;\n",
       "    }\n",
       "\n",
       "    .dataframe tbody tr th {\n",
       "        vertical-align: top;\n",
       "    }\n",
       "\n",
       "    .dataframe thead th {\n",
       "        text-align: right;\n",
       "    }\n",
       "</style>\n",
       "<table border=\"1\" class=\"dataframe\">\n",
       "  <thead>\n",
       "    <tr style=\"text-align: right;\">\n",
       "      <th></th>\n",
       "      <th>Predictor</th>\n",
       "      <th>Importancia</th>\n",
       "    </tr>\n",
       "  </thead>\n",
       "  <tbody>\n",
       "    <tr>\n",
       "      <th>0</th>\n",
       "      <td>surface_covered</td>\n",
       "      <td>0.526582</td>\n",
       "    </tr>\n",
       "    <tr>\n",
       "      <th>1</th>\n",
       "      <td>bedrooms</td>\n",
       "      <td>0.166397</td>\n",
       "    </tr>\n",
       "    <tr>\n",
       "      <th>2</th>\n",
       "      <td>bathrooms</td>\n",
       "      <td>0.160218</td>\n",
       "    </tr>\n",
       "    <tr>\n",
       "      <th>3</th>\n",
       "      <td>property_type_Departamento</td>\n",
       "      <td>0.146804</td>\n",
       "    </tr>\n",
       "  </tbody>\n",
       "</table>\n",
       "</div>"
      ],
      "text/plain": [
       "                    Predictor  Importancia\n",
       "0             surface_covered     0.526582\n",
       "1                    bedrooms     0.166397\n",
       "2                   bathrooms     0.160218\n",
       "3  property_type_Departamento     0.146804"
      ]
     },
     "execution_count": 120,
     "metadata": {},
     "output_type": "execute_result"
    }
   ],
   "source": [
    "# Para la útlima parte del proyecto (Parte C)\n",
    "# Buscamos cual resultó ser la mejor variable para el modelo elegido como el mejor\n",
    "# Random Forest\n",
    "\n",
    "importancia_predictores = pd.DataFrame({\"Predictor\": X.columns,\"Importancia\": rf_best.feature_importances_})\n",
    "print(\"Importancia de los predictores en el modelo Random Forest\")\n",
    "importancia_predictores.sort_values(\"Importancia\", ascending=False)"
   ]
  },
  {
   "cell_type": "code",
   "execution_count": null,
   "metadata": {},
   "outputs": [],
   "source": [
    "# La variable surface_covered fue la más importante o relevante para el modelo\n",
    "# Se esperaba esto ya que la correlación con el precio era relativamente alta\n",
    "# Aunque las otra variables incluidas resultan con un peso de importancia similar,\n",
    "# creo importante incluir nuevas variables\n",
    "# en este caso el dataset nos limita, pero seria ideal usar variables como:\n",
    "# -Segmento (Estrato socioeconómico)\n",
    "# -Servicios comunales (ej: piscina, canchas de fútbol, parques)\n",
    "# -Acabados (ej: cocina con marmol, horno electrico)\n",
    "# -Distancia a centros de trabajo\n",
    "# -Acceso a transporte público\n",
    "# Porqué?\n",
    "# son variables que tiene en cuenta los costos de oportunidad relevantes a la hora de darle precio a una vivienda"
   ]
  }
 ],
 "metadata": {
  "kernelspec": {
   "display_name": "Python 3",
   "language": "python",
   "name": "python3"
  },
  "language_info": {
   "codemirror_mode": {
    "name": "ipython",
    "version": 3
   },
   "file_extension": ".py",
   "mimetype": "text/x-python",
   "name": "python",
   "nbconvert_exporter": "python",
   "pygments_lexer": "ipython3",
   "version": "3.8.5"
  }
 },
 "nbformat": 4,
 "nbformat_minor": 4
}
